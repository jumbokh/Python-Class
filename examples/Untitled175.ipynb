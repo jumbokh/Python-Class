{
  "nbformat": 4,
  "nbformat_minor": 0,
  "metadata": {
    "colab": {
      "name": "Untitled175.ipynb",
      "provenance": [],
      "include_colab_link": true
    },
    "kernelspec": {
      "name": "python3",
      "display_name": "Python 3"
    }
  },
  "cells": [
    {
      "cell_type": "markdown",
      "metadata": {
        "id": "view-in-github",
        "colab_type": "text"
      },
      "source": [
        "<a href=\"https://colab.research.google.com/github/jumbokh/Python-Class/blob/master/examples/Untitled175.ipynb\" target=\"_parent\"><img src=\"https://colab.research.google.com/assets/colab-badge.svg\" alt=\"Open In Colab\"/></a>"
      ]
    },
    {
      "cell_type": "markdown",
      "metadata": {
        "id": "YqE3syMhKIxW"
      },
      "source": [
        "# 20201029筆記"
      ]
    },
    {
      "cell_type": "markdown",
      "metadata": {
        "id": "4VQiYRrSKfOW"
      },
      "source": [
        "## python基礎複習"
      ]
    },
    {
      "cell_type": "code",
      "metadata": {
        "id": "hjyqT2ZeJgG7"
      },
      "source": [
        "x = list(range(10))"
      ],
      "execution_count": null,
      "outputs": []
    },
    {
      "cell_type": "code",
      "metadata": {
        "id": "MNpNiDhiKb5N",
        "outputId": "f11e014b-bbb6-4887-e618-a1965e776f69",
        "colab": {
          "base_uri": "https://localhost:8080/"
        }
      },
      "source": [
        "x"
      ],
      "execution_count": null,
      "outputs": [
        {
          "output_type": "execute_result",
          "data": {
            "text/plain": [
              "[0, 1, 2, 3, 4, 5, 6, 7, 8, 9]"
            ]
          },
          "metadata": {
            "tags": []
          },
          "execution_count": 2
        }
      ]
    },
    {
      "cell_type": "code",
      "metadata": {
        "id": "T0zw55CgK0Uz",
        "outputId": "94263e6f-5313-4268-d1f8-744ec1df6db2",
        "colab": {
          "base_uri": "https://localhost:8080/"
        }
      },
      "source": [
        "x[:5]"
      ],
      "execution_count": null,
      "outputs": [
        {
          "output_type": "execute_result",
          "data": {
            "text/plain": [
              "[0, 1, 2, 3, 4]"
            ]
          },
          "metadata": {
            "tags": []
          },
          "execution_count": 9
        }
      ]
    },
    {
      "cell_type": "code",
      "metadata": {
        "id": "72bPhMmlM0Gb",
        "outputId": "86364273-87e3-4007-855a-1996f37e9433",
        "colab": {
          "base_uri": "https://localhost:8080/"
        }
      },
      "source": [
        "x[-5:]"
      ],
      "execution_count": null,
      "outputs": [
        {
          "output_type": "execute_result",
          "data": {
            "text/plain": [
              "[5, 6, 7, 8, 9]"
            ]
          },
          "metadata": {
            "tags": []
          },
          "execution_count": 10
        }
      ]
    },
    {
      "cell_type": "markdown",
      "metadata": {
        "id": "2l4rpZMeM5nz"
      },
      "source": [
        "## 開始使用pandas"
      ]
    },
    {
      "cell_type": "code",
      "metadata": {
        "id": "gS2qwuN_M2-K"
      },
      "source": [
        "import pandas_datareader.data as web"
      ],
      "execution_count": null,
      "outputs": []
    },
    {
      "cell_type": "code",
      "metadata": {
        "id": "_dKmzN73NQMQ"
      },
      "source": [
        "# 讀取歷史股價\n",
        "df = web.DataReader('2330.tw','yahoo','2010-01-01')"
      ],
      "execution_count": null,
      "outputs": []
    },
    {
      "cell_type": "code",
      "metadata": {
        "id": "MZxA6GMHNjut",
        "outputId": "9978c14c-505e-4aa4-b33c-4a88892adf70",
        "colab": {
          "base_uri": "https://localhost:8080/",
          "height": 232
        }
      },
      "source": [
        "# 列出前五筆資料\n",
        "df.head()"
      ],
      "execution_count": null,
      "outputs": [
        {
          "output_type": "execute_result",
          "data": {
            "text/html": [
              "<div>\n",
              "<style scoped>\n",
              "    .dataframe tbody tr th:only-of-type {\n",
              "        vertical-align: middle;\n",
              "    }\n",
              "\n",
              "    .dataframe tbody tr th {\n",
              "        vertical-align: top;\n",
              "    }\n",
              "\n",
              "    .dataframe thead th {\n",
              "        text-align: right;\n",
              "    }\n",
              "</style>\n",
              "<table border=\"1\" class=\"dataframe\">\n",
              "  <thead>\n",
              "    <tr style=\"text-align: right;\">\n",
              "      <th></th>\n",
              "      <th>High</th>\n",
              "      <th>Low</th>\n",
              "      <th>Open</th>\n",
              "      <th>Close</th>\n",
              "      <th>Volume</th>\n",
              "      <th>Adj Close</th>\n",
              "    </tr>\n",
              "    <tr>\n",
              "      <th>Date</th>\n",
              "      <th></th>\n",
              "      <th></th>\n",
              "      <th></th>\n",
              "      <th></th>\n",
              "      <th></th>\n",
              "      <th></th>\n",
              "    </tr>\n",
              "  </thead>\n",
              "  <tbody>\n",
              "    <tr>\n",
              "      <th>2010-01-04</th>\n",
              "      <td>65.000000</td>\n",
              "      <td>64.000000</td>\n",
              "      <td>65.000000</td>\n",
              "      <td>64.900002</td>\n",
              "      <td>39407000.0</td>\n",
              "      <td>44.052135</td>\n",
              "    </tr>\n",
              "    <tr>\n",
              "      <th>2010-01-05</th>\n",
              "      <td>65.099998</td>\n",
              "      <td>63.900002</td>\n",
              "      <td>65.000000</td>\n",
              "      <td>64.500000</td>\n",
              "      <td>37138000.0</td>\n",
              "      <td>43.780632</td>\n",
              "    </tr>\n",
              "    <tr>\n",
              "      <th>2010-01-06</th>\n",
              "      <td>64.900002</td>\n",
              "      <td>63.700001</td>\n",
              "      <td>64.500000</td>\n",
              "      <td>64.900002</td>\n",
              "      <td>49261000.0</td>\n",
              "      <td>44.052135</td>\n",
              "    </tr>\n",
              "    <tr>\n",
              "      <th>2010-01-07</th>\n",
              "      <td>65.000000</td>\n",
              "      <td>64.199997</td>\n",
              "      <td>64.900002</td>\n",
              "      <td>64.199997</td>\n",
              "      <td>42134000.0</td>\n",
              "      <td>43.576996</td>\n",
              "    </tr>\n",
              "    <tr>\n",
              "      <th>2010-01-08</th>\n",
              "      <td>64.300003</td>\n",
              "      <td>63.500000</td>\n",
              "      <td>63.500000</td>\n",
              "      <td>64.000000</td>\n",
              "      <td>46076000.0</td>\n",
              "      <td>43.441250</td>\n",
              "    </tr>\n",
              "  </tbody>\n",
              "</table>\n",
              "</div>"
            ],
            "text/plain": [
              "                 High        Low       Open      Close      Volume  Adj Close\n",
              "Date                                                                         \n",
              "2010-01-04  65.000000  64.000000  65.000000  64.900002  39407000.0  44.052135\n",
              "2010-01-05  65.099998  63.900002  65.000000  64.500000  37138000.0  43.780632\n",
              "2010-01-06  64.900002  63.700001  64.500000  64.900002  49261000.0  44.052135\n",
              "2010-01-07  65.000000  64.199997  64.900002  64.199997  42134000.0  43.576996\n",
              "2010-01-08  64.300003  63.500000  63.500000  64.000000  46076000.0  43.441250"
            ]
          },
          "metadata": {
            "tags": []
          },
          "execution_count": 13
        }
      ]
    },
    {
      "cell_type": "code",
      "metadata": {
        "id": "6mnSSK7AN0M2",
        "outputId": "42a946ad-3238-4a19-8a66-00a3fb3350ac",
        "colab": {
          "base_uri": "https://localhost:8080/"
        }
      },
      "source": [
        "# 取出收盤價的Series\n",
        "df['Close']"
      ],
      "execution_count": null,
      "outputs": [
        {
          "output_type": "execute_result",
          "data": {
            "text/plain": [
              "Date\n",
              "2010-01-04     64.900002\n",
              "2010-01-05     64.500000\n",
              "2010-01-06     64.900002\n",
              "2010-01-07     64.199997\n",
              "2010-01-08     64.000000\n",
              "                 ...    \n",
              "2020-10-23    452.000000\n",
              "2020-10-26    450.000000\n",
              "2020-10-27    447.000000\n",
              "2020-10-28    444.000000\n",
              "2020-10-29    437.000000\n",
              "Name: Close, Length: 2656, dtype: float64"
            ]
          },
          "metadata": {
            "tags": []
          },
          "execution_count": 14
        }
      ]
    },
    {
      "cell_type": "code",
      "metadata": {
        "id": "P3nitpofOvI5",
        "outputId": "b88f334d-768e-4d21-8dd9-d17bb5db830b",
        "colab": {
          "base_uri": "https://localhost:8080/",
          "height": 286
        }
      },
      "source": [
        "# 繪製收盤價曲線\n",
        "df['Close'].plot()"
      ],
      "execution_count": null,
      "outputs": [
        {
          "output_type": "execute_result",
          "data": {
            "text/plain": [
              "<matplotlib.axes._subplots.AxesSubplot at 0x7f061373f7b8>"
            ]
          },
          "metadata": {
            "tags": []
          },
          "execution_count": 15
        },
        {
          "output_type": "display_data",
          "data": {
            "image/png": "[encoded data removed]",
            "text/plain": [
              "<Figure size 432x288 with 1 Axes>"
            ]
          },
          "metadata": {
            "tags": [],
            "needs_background": "light"
          }
        }
      ]
    },
    {
      "cell_type": "code",
      "metadata": {
        "id": "FTfsINPgO5-a",
        "outputId": "e6e252cf-9cfa-4662-b40b-8434fd54ec7c",
        "colab": {
          "base_uri": "https://localhost:8080/",
          "height": 294
        }
      },
      "source": [
        "# 使用最後一百筆資料來畫圖\n",
        "df['Close'][-100:].plot()"
      ],
      "execution_count": null,
      "outputs": [
        {
          "output_type": "execute_result",
          "data": {
            "text/plain": [
              "<matplotlib.axes._subplots.AxesSubplot at 0x7f06122f4390>"
            ]
          },
          "metadata": {
            "tags": []
          },
          "execution_count": 16
        },
        {
          "output_type": "display_data",
          "data": {
            "image/png": "[encoded data removed]",
            "text/plain": [
              "<Figure size 432x288 with 1 Axes>"
            ]
          },
          "metadata": {
            "tags": [],
            "needs_background": "light"
          }
        }
      ]
    },
    {
      "cell_type": "code",
      "metadata": {
        "id": "mmTI-dYSPQz1",
        "outputId": "c0f1e8c7-2968-4cfc-9327-f64d456b75ec",
        "colab": {
          "base_uri": "https://localhost:8080/",
          "height": 294
        }
      },
      "source": [
        "# 使用最後一百筆資料來畫圖\n",
        "df['Close'].tail(100).plot()"
      ],
      "execution_count": null,
      "outputs": [
        {
          "output_type": "execute_result",
          "data": {
            "text/plain": [
              "<matplotlib.axes._subplots.AxesSubplot at 0x7f0611e84898>"
            ]
          },
          "metadata": {
            "tags": []
          },
          "execution_count": 17
        },
        {
          "output_type": "display_data",
          "data": {
            "image/png": "[encoded data removed]",
            "text/plain": [
              "<Figure size 432x288 with 1 Axes>"
            ]
          },
          "metadata": {
            "tags": [],
            "needs_background": "light"
          }
        }
      ]
    },
    {
      "cell_type": "code",
      "metadata": {
        "id": "wLhpkaV2PcE5",
        "outputId": "0f92ef03-e773-41d4-8410-861ce2745d2e",
        "colab": {
          "base_uri": "https://localhost:8080/",
          "height": 294
        }
      },
      "source": [
        "# 擷取2018年的收盤價來畫圖\n",
        "df['Close']['2018'].plot()"
      ],
      "execution_count": null,
      "outputs": [
        {
          "output_type": "execute_result",
          "data": {
            "text/plain": [
              "<matplotlib.axes._subplots.AxesSubplot at 0x7f0611e0ba20>"
            ]
          },
          "metadata": {
            "tags": []
          },
          "execution_count": 18
        },
        {
          "output_type": "display_data",
          "data": {
            "image/png": "[encoded data removed]",
            "text/plain": [
              "<Figure size 432x288 with 1 Axes>"
            ]
          },
          "metadata": {
            "tags": [],
            "needs_background": "light"
          }
        }
      ]
    },
    {
      "cell_type": "code",
      "metadata": {
        "id": "mFDCDaTzPzoZ",
        "outputId": "9a7a2fee-3aa9-4e32-8fde-c0d4e3f595a1",
        "colab": {
          "base_uri": "https://localhost:8080/",
          "height": 294
        }
      },
      "source": [
        "# 擷取2018年下半年的收盤價來畫圖\n",
        "df['Close']['2018-07':'2018-12'].plot()"
      ],
      "execution_count": null,
      "outputs": [
        {
          "output_type": "execute_result",
          "data": {
            "text/plain": [
              "<matplotlib.axes._subplots.AxesSubplot at 0x7f0611d98e48>"
            ]
          },
          "metadata": {
            "tags": []
          },
          "execution_count": 19
        },
        {
          "output_type": "display_data",
          "data": {
            "image/png": "[encoded data removed]",
            "text/plain": [
              "<Figure size 432x288 with 1 Axes>"
            ]
          },
          "metadata": {
            "tags": [],
            "needs_background": "light"
          }
        }
      ]
    },
    {
      "cell_type": "code",
      "metadata": {
        "id": "fcUbjGREQBIz",
        "outputId": "6d847910-3b36-4157-adfd-ba0a1cd7a582",
        "colab": {
          "base_uri": "https://localhost:8080/"
        }
      },
      "source": [
        "# 計算從2010年買進持有到現在，資產翻幾倍\n",
        "df['Close'][-1]/df['Close'][0]"
      ],
      "execution_count": null,
      "outputs": [
        {
          "output_type": "execute_result",
          "data": {
            "text/plain": [
              "6.733435897158586"
            ]
          },
          "metadata": {
            "tags": []
          },
          "execution_count": 20
        }
      ]
    },
    {
      "cell_type": "code",
      "metadata": {
        "id": "IR1dF2MdQp3N",
        "outputId": "470ea288-1e15-4dfc-a6b6-c9790f016697",
        "colab": {
          "base_uri": "https://localhost:8080/"
        }
      },
      "source": [
        "# 計算從2018年投資報酬率\n",
        "df['Close']['2018'][-1]/df['Close']['2018'][0]"
      ],
      "execution_count": null,
      "outputs": [
        {
          "output_type": "execute_result",
          "data": {
            "text/plain": [
              "0.9698924731182795"
            ]
          },
          "metadata": {
            "tags": []
          },
          "execution_count": 21
        }
      ]
    },
    {
      "cell_type": "markdown",
      "metadata": {
        "id": "dV3XzpS2R97b"
      },
      "source": [
        "## 讀取0050成分股"
      ]
    },
    {
      "cell_type": "code",
      "metadata": {
        "id": "yFKbUI9FSQtT"
      },
      "source": [
        "import pandas as pd"
      ],
      "execution_count": null,
      "outputs": []
    },
    {
      "cell_type": "code",
      "metadata": {
        "id": "5nZFbjQ1SAQi"
      },
      "source": [
        "url = \"https://www.yuantaetfs.com/api/StkWeights?date=&fundid=1066\""
      ],
      "execution_count": null,
      "outputs": []
    },
    {
      "cell_type": "code",
      "metadata": {
        "id": "26BGIPQ3SB3A"
      },
      "source": [
        "stock_df = pd.read_json(url)"
      ],
      "execution_count": null,
      "outputs": []
    },
    {
      "cell_type": "code",
      "metadata": {
        "id": "ayVGajqoSWri",
        "outputId": "eac78339-0c78-4ffc-db39-38ec44c14eeb",
        "colab": {
          "base_uri": "https://localhost:8080/",
          "height": 201
        }
      },
      "source": [
        "stock_df.head()"
      ],
      "execution_count": null,
      "outputs": [
        {
          "output_type": "execute_result",
          "data": {
            "text/html": [
              "<div>\n",
              "<style scoped>\n",
              "    .dataframe tbody tr th:only-of-type {\n",
              "        vertical-align: middle;\n",
              "    }\n",
              "\n",
              "    .dataframe tbody tr th {\n",
              "        vertical-align: top;\n",
              "    }\n",
              "\n",
              "    .dataframe thead th {\n",
              "        text-align: right;\n",
              "    }\n",
              "</style>\n",
              "<table border=\"1\" class=\"dataframe\">\n",
              "  <thead>\n",
              "    <tr style=\"text-align: right;\">\n",
              "      <th></th>\n",
              "      <th>code</th>\n",
              "      <th>ym</th>\n",
              "      <th>name</th>\n",
              "      <th>ename</th>\n",
              "      <th>weights</th>\n",
              "      <th>qty</th>\n",
              "    </tr>\n",
              "  </thead>\n",
              "  <tbody>\n",
              "    <tr>\n",
              "      <th>0</th>\n",
              "      <td>2330</td>\n",
              "      <td>NaN</td>\n",
              "      <td>台積電</td>\n",
              "      <td>Taiwan Semiconductor Manufacturing Co. Ltd.</td>\n",
              "      <td>48.08</td>\n",
              "      <td>106817343</td>\n",
              "    </tr>\n",
              "    <tr>\n",
              "      <th>1</th>\n",
              "      <td>2454</td>\n",
              "      <td>NaN</td>\n",
              "      <td>聯發科</td>\n",
              "      <td>MediaTek Inc.</td>\n",
              "      <td>4.64</td>\n",
              "      <td>6580626</td>\n",
              "    </tr>\n",
              "    <tr>\n",
              "      <th>2</th>\n",
              "      <td>2317</td>\n",
              "      <td>NaN</td>\n",
              "      <td>鴻海</td>\n",
              "      <td>HON HAI PRECISION IND. CO. LTD.</td>\n",
              "      <td>4.26</td>\n",
              "      <td>53084686</td>\n",
              "    </tr>\n",
              "    <tr>\n",
              "      <th>3</th>\n",
              "      <td>2308</td>\n",
              "      <td>NaN</td>\n",
              "      <td>台達電</td>\n",
              "      <td>DELTA ELECTRONICS INC.</td>\n",
              "      <td>1.93</td>\n",
              "      <td>9610100</td>\n",
              "    </tr>\n",
              "    <tr>\n",
              "      <th>4</th>\n",
              "      <td>2412</td>\n",
              "      <td>NaN</td>\n",
              "      <td>中華電</td>\n",
              "      <td>Chunghwa Telecom Co. Ltd</td>\n",
              "      <td>1.87</td>\n",
              "      <td>16919438</td>\n",
              "    </tr>\n",
              "  </tbody>\n",
              "</table>\n",
              "</div>"
            ],
            "text/plain": [
              "   code  ym  ... weights        qty\n",
              "0  2330 NaN  ...   48.08  106817343\n",
              "1  2454 NaN  ...    4.64    6580626\n",
              "2  2317 NaN  ...    4.26   53084686\n",
              "3  2308 NaN  ...    1.93    9610100\n",
              "4  2412 NaN  ...    1.87   16919438\n",
              "\n",
              "[5 rows x 6 columns]"
            ]
          },
          "metadata": {
            "tags": []
          },
          "execution_count": 25
        }
      ]
    },
    {
      "cell_type": "code",
      "metadata": {
        "id": "wudrCV8IScox",
        "outputId": "01b8888a-c635-4141-822c-03e9457e961a",
        "colab": {
          "base_uri": "https://localhost:8080/"
        }
      },
      "source": [
        "stock_df['code']"
      ],
      "execution_count": null,
      "outputs": [
        {
          "output_type": "execute_result",
          "data": {
            "text/plain": [
              "0     2330\n",
              "1     2454\n",
              "2     2317\n",
              "3     2308\n",
              "4     2412\n",
              "5     1301\n",
              "6     2303\n",
              "7     1303\n",
              "8     2891\n",
              "9     2882\n",
              "10    3008\n",
              "11    2886\n",
              "12    2881\n",
              "13    1216\n",
              "14    2884\n",
              "15    2002\n",
              "16    1326\n",
              "17    3711\n",
              "18    2885\n",
              "19    1101\n",
              "20    2892\n",
              "21    2207\n",
              "22    2382\n",
              "23    5880\n",
              "24    5871\n",
              "25    2357\n",
              "26    2379\n",
              "27    2880\n",
              "28    2327\n",
              "29    3045\n",
              "30    2912\n",
              "31    2474\n",
              "32    2887\n",
              "33    4938\n",
              "34    5876\n",
              "35    2395\n",
              "36    2883\n",
              "37    2890\n",
              "38    2801\n",
              "39    6415\n",
              "40    6505\n",
              "41    1402\n",
              "42    2301\n",
              "43    4904\n",
              "44    1102\n",
              "45    9910\n",
              "46    2105\n",
              "47    2633\n",
              "48    6669\n",
              "49    2408\n",
              "Name: code, dtype: int64"
            ]
          },
          "metadata": {
            "tags": []
          },
          "execution_count": 26
        }
      ]
    },
    {
      "cell_type": "code",
      "metadata": {
        "id": "TBeNKZZ0Tbdz",
        "outputId": "8b4b321b-eeac-4ec5-9233-d9a2144b96e9",
        "colab": {
          "base_uri": "https://localhost:8080/",
          "height": 166
        }
      },
      "source": [
        "2330 + \".tw\""
      ],
      "execution_count": null,
      "outputs": [
        {
          "output_type": "error",
          "ename": "TypeError",
          "evalue": "ignored",
          "traceback": [
            "\u001b[0;31m---------------------------------------------------------------------------\u001b[0m",
            "\u001b[0;31mTypeError\u001b[0m                                 Traceback (most recent call last)",
            "\u001b[0;32m<ipython-input-27-8cf05667a6f1>\u001b[0m in \u001b[0;36m<module>\u001b[0;34m()\u001b[0m\n\u001b[0;32m----> 1\u001b[0;31m \u001b[0;36m2330\u001b[0m \u001b[0;34m+\u001b[0m \u001b[0;34m\".tw\"\u001b[0m\u001b[0;34m\u001b[0m\u001b[0;34m\u001b[0m\u001b[0m\n\u001b[0m",
            "\u001b[0;31mTypeError\u001b[0m: unsupported operand type(s) for +: 'int' and 'str'"
          ]
        }
      ]
    },
    {
      "cell_type": "code",
      "metadata": {
        "id": "RxwQcDZuTGCn",
        "outputId": "f4fa9bb6-5bf1-4e81-ca83-c68eabdfe61d",
        "colab": {
          "base_uri": "https://localhost:8080/"
        }
      },
      "source": [
        "for x in stock_df['code']:\n",
        "  df1 = web.DataReader(str(x)+\".tw\",'yahoo','2017-01-01')\n",
        "  ret = df1['Close'][-1]/df1['Close'][0]\n",
        "  print(x,\"==>\",ret)"
      ],
      "execution_count": null,
      "outputs": [
        {
          "output_type": "stream",
          "text": [
            "2330 ==> 2.387978142076503\n",
            "2454 ==> 3.1376146788990824\n",
            "2317 ==> 0.7402135231316725\n",
            "2308 ==> 1.2302839116719242\n",
            "2412 ==> 1.048780487804878\n",
            "1301 ==> 0.8756937054615035\n",
            "2303 ==> 2.8903510408351645\n",
            "1303 ==> 0.8286517209107355\n",
            "2891 ==> 1.0141242931764982\n",
            "2882 ==> 0.7984245141573378\n",
            "3008 ==> 0.7997364953886693\n",
            "2886 ==> 1.1904761708168563\n",
            "2881 ==> 0.7928015328848417\n",
            "1216 ==> 1.1482176667722328\n",
            "2884 ==> 1.7646589747201358\n",
            "2002 ==> 0.8343557865835307\n",
            "1326 ==> 0.7060636669425167\n",
            "3711 ==> 0.9556311604350968\n",
            "2885 ==> 1.5360648137312365\n",
            "1101 ==> 1.4188461354537691\n",
            "2892 ==> 1.2225160489612654\n",
            "2207 ==> 1.6790123456790123\n",
            "2382 ==> 1.2\n",
            "5880 ==> 1.5500833334351956\n",
            "5871 ==> 2.6550491152773827\n",
            "2357 ==> 0.9194756554307116\n",
            "2379 ==> 3.519607843137255\n",
            "2880 ==> 1.2970704948261131\n",
            "2327 ==> 4.972361438368579\n",
            "3045 ==> 0.9282296650717703\n",
            "2912 ==> 1.1244635193133048\n",
            "2474 ==> 0.8159645232815964\n",
            "2887 ==> 1.2195239139840544\n",
            "4938 ==> 0.7895408204226432\n",
            "5876 ==> 1.4206318578073143\n",
            "2395 ==> 1.384689843986921\n",
            "2883 ==> 1.0471462954073485\n",
            "2890 ==> 1.2512424797134447\n",
            "2801 ==> 1.1583953582138333\n",
            "6415 ==> 3.896103896103896\n",
            "6505 ==> 0.730593607305936\n",
            "1402 ==> 1.0617283969997955\n",
            "2301 ==> 0.9677419508497089\n",
            "4904 ==> 0.8368201192994748\n",
            "1102 ==> 1.5471698113207548\n",
            "9910 ==> 1.8695516025937458\n",
            "2105 ==> 0.5920195044099514\n",
            "2633 ==> 1.6047745033330032\n",
            "6669 ==> 6.793961973486167\n",
            "2408 ==> 1.2317460478928985\n"
          ],
          "name": "stdout"
        }
      ]
    },
    {
      "cell_type": "code",
      "metadata": {
        "id": "vFA1VR3hTySN",
        "outputId": "a882b344-759f-4e2a-93a4-35bc70bb8fb2",
        "colab": {
          "base_uri": "https://localhost:8080/",
          "height": 265
        }
      },
      "source": [
        "import numpy as np\n",
        "import matplotlib.pyplot as plt\n",
        "from matplotlib.collections import LineCollection\n",
        "from matplotlib.colors import ListedColormap, BoundaryNorm\n",
        "\n",
        "x = np.linspace(0, 3 * np.pi, 500)\n",
        "y = np.sin(x)\n",
        "dydx = np.cos(0.5 * (x[:-1] + x[1:]))  # first derivative\n",
        "\n",
        "# Create a set of line segments so that we can color them individually\n",
        "# This creates the points as a N x 1 x 2 array so that we can stack points\n",
        "# together easily to get the segments. The segments array for line collection\n",
        "# needs to be (numlines) x (points per line) x 2 (for x and y)\n",
        "points = np.array([x, y]).T.reshape(-1, 1, 2)\n",
        "segments = np.concatenate([points[:-1], points[1:]], axis=1)\n",
        "\n",
        "fig, axs = plt.subplots(2, 1, sharex=True, sharey=True)\n",
        "\n",
        "# Create a continuous norm to map from data points to colors\n",
        "norm = plt.Normalize(dydx.min(), dydx.max())\n",
        "lc = LineCollection(segments, cmap='viridis', norm=norm)\n",
        "# Set the values used for colormapping\n",
        "lc.set_array(dydx)\n",
        "lc.set_linewidth(2)\n",
        "line = axs[0].add_collection(lc)\n",
        "fig.colorbar(line, ax=axs[0])\n",
        "\n",
        "# Use a boundary norm instead\n",
        "cmap = ListedColormap(['r', 'g', 'b'])\n",
        "norm = BoundaryNorm([-1, -0.5, 0.5, 1], cmap.N)\n",
        "lc = LineCollection(segments, cmap=cmap, norm=norm)\n",
        "lc.set_array(dydx)\n",
        "lc.set_linewidth(2)\n",
        "line = axs[1].add_collection(lc)\n",
        "fig.colorbar(line, ax=axs[1])\n",
        "\n",
        "axs[0].set_xlim(x.min(), x.max())\n",
        "axs[0].set_ylim(-1.1, 1.1)\n",
        "plt.show()"
      ],
      "execution_count": null,
      "outputs": [
        {
          "output_type": "display_data",
          "data": {
            "image/png": "[encoded data removed]",
            "text/plain": [
              "<Figure size 432x288 with 4 Axes>"
            ]
          },
          "metadata": {
            "tags": [],
            "needs_background": "light"
          }
        }
      ]
    },
    {
      "cell_type": "markdown",
      "metadata": {
        "id": "r8vLoiOAVHOu"
      },
      "source": [
        "## 使用 mplfinance 畫 K 線圖"
      ]
    },
    {
      "cell_type": "code",
      "metadata": {
        "id": "iNg5r0aVVKq5",
        "outputId": "60ab5b64-9395-4a0a-a125-44472d210e30",
        "colab": {
          "base_uri": "https://localhost:8080/"
        }
      },
      "source": [
        "!pip install --upgrade mplfinance"
      ],
      "execution_count": null,
      "outputs": [
        {
          "output_type": "stream",
          "text": [
            "Collecting mplfinance\n",
            "\u001b[?25l  Downloading https://files.pythonhosted.org/packages/cd/01/3418bb0c9952d4a3c24893e883df8e39065d7a13e7d60ae4f139a9eafc78/mplfinance-0.12.7a0-py3-none-any.whl (55kB)\n",
            "\r\u001b[K     |██████                          | 10kB 19.2MB/s eta 0:00:01\r\u001b[K     |████████████                    | 20kB 5.7MB/s eta 0:00:01\r\u001b[K     |█████████████████▉              | 30kB 6.9MB/s eta 0:00:01\r\u001b[K     |███████████████████████▉        | 40kB 6.4MB/s eta 0:00:01\r\u001b[K     |█████████████████████████████▊  | 51kB 6.6MB/s eta 0:00:01\r\u001b[K     |████████████████████████████████| 61kB 3.8MB/s \n",
            "\u001b[?25hRequirement already satisfied, skipping upgrade: matplotlib in /usr/local/lib/python3.6/dist-packages (from mplfinance) (3.2.2)\n",
            "Requirement already satisfied, skipping upgrade: pandas in /usr/local/lib/python3.6/dist-packages (from mplfinance) (1.1.3)\n",
            "Requirement already satisfied, skipping upgrade: kiwisolver>=1.0.1 in /usr/local/lib/python3.6/dist-packages (from matplotlib->mplfinance) (1.2.0)\n",
            "Requirement already satisfied, skipping upgrade: numpy>=1.11 in /usr/local/lib/python3.6/dist-packages (from matplotlib->mplfinance) (1.18.5)\n",
            "Requirement already satisfied, skipping upgrade: pyparsing!=2.0.4,!=2.1.2,!=2.1.6,>=2.0.1 in /usr/local/lib/python3.6/dist-packages (from matplotlib->mplfinance) (2.4.7)\n",
            "Requirement already satisfied, skipping upgrade: python-dateutil>=2.1 in /usr/local/lib/python3.6/dist-packages (from matplotlib->mplfinance) (2.8.1)\n",
            "Requirement already satisfied, skipping upgrade: cycler>=0.10 in /usr/local/lib/python3.6/dist-packages (from matplotlib->mplfinance) (0.10.0)\n",
            "Requirement already satisfied, skipping upgrade: pytz>=2017.2 in /usr/local/lib/python3.6/dist-packages (from pandas->mplfinance) (2018.9)\n",
            "Requirement already satisfied, skipping upgrade: six>=1.5 in /usr/local/lib/python3.6/dist-packages (from python-dateutil>=2.1->matplotlib->mplfinance) (1.15.0)\n",
            "Installing collected packages: mplfinance\n",
            "Successfully installed mplfinance-0.12.7a0\n"
          ],
          "name": "stdout"
        }
      ]
    },
    {
      "cell_type": "code",
      "metadata": {
        "id": "D6Ru65Y-VP-2"
      },
      "source": [
        "import mplfinance as mpf"
      ],
      "execution_count": null,
      "outputs": []
    },
    {
      "cell_type": "code",
      "metadata": {
        "id": "oJ2g8DQ-VanK",
        "outputId": "78db67b4-9923-42f7-f7f3-0bb4575ac8bd",
        "colab": {
          "base_uri": "https://localhost:8080/",
          "height": 492
        }
      },
      "source": [
        "mpf.plot(df.tail(50))"
      ],
      "execution_count": null,
      "outputs": [
        {
          "output_type": "display_data",
          "data": {
            "image/png": "[encoded data removed]",
            "text/plain": [
              "<Figure size 800x575 with 2 Axes>"
            ]
          },
          "metadata": {
            "tags": []
          }
        }
      ]
    },
    {
      "cell_type": "code",
      "metadata": {
        "id": "tzxW33pdVi5B",
        "outputId": "4a10d4da-d8de-43d4-92b1-edce5e4f87a7",
        "colab": {
          "base_uri": "https://localhost:8080/",
          "height": 492
        }
      },
      "source": [
        "mpf.plot(df.tail(50), type='candle')"
      ],
      "execution_count": null,
      "outputs": [
        {
          "output_type": "display_data",
          "data": {
            "image/png": "[encoded data removed]",
            "text/plain": [
              "<Figure size 800x575 with 2 Axes>"
            ]
          },
          "metadata": {
            "tags": []
          }
        }
      ]
    },
    {
      "cell_type": "code",
      "metadata": {
        "id": "occyxoPhVzLj",
        "outputId": "2e98cd1e-cf39-4c70-fc11-5152bc737aed",
        "colab": {
          "base_uri": "https://localhost:8080/",
          "height": 493
        }
      },
      "source": [
        "mpf.plot(df.tail(50), type='candle', style=\"charles\")"
      ],
      "execution_count": null,
      "outputs": [
        {
          "output_type": "display_data",
          "data": {
            "image/png": "[encoded data removed]",
            "text/plain": [
              "<Figure size 800x575 with 2 Axes>"
            ]
          },
          "metadata": {
            "tags": []
          }
        }
      ]
    },
    {
      "cell_type": "code",
      "metadata": {
        "id": "7SJk0sDBb1dl",
        "outputId": "b65cf707-3ed9-4afd-8266-9ab89dca8186",
        "colab": {
          "base_uri": "https://localhost:8080/",
          "height": 493
        }
      },
      "source": [
        "mpf.plot(df.tail(50), type='candle', volume=True, style=\"charles\")"
      ],
      "execution_count": null,
      "outputs": [
        {
          "output_type": "display_data",
          "data": {
            "image/png": "[encoded data removed]",
            "text/plain": [
              "<Figure size 800x575 with 4 Axes>"
            ]
          },
          "metadata": {
            "tags": []
          }
        }
      ]
    },
    {
      "cell_type": "code",
      "metadata": {
        "id": "OqP3QtPFV8VU"
      },
      "source": [
        "df.to_excel('test.xlsx')"
      ],
      "execution_count": null,
      "outputs": []
    },
    {
      "cell_type": "code",
      "metadata": {
        "id": "_UJcutSmWkzh"
      },
      "source": [
        "df['2018'].to_html('test.html')"
      ],
      "execution_count": null,
      "outputs": []
    },
    {
      "cell_type": "code",
      "metadata": {
        "id": "mnEordtrXMsE"
      },
      "source": [
        "df['2018'].to_csv('test.csv')"
      ],
      "execution_count": null,
      "outputs": []
    },
    {
      "cell_type": "markdown",
      "metadata": {
        "id": "nznT3iKoZQZh"
      },
      "source": [
        "# 將設定時間為index"
      ]
    },
    {
      "cell_type": "code",
      "metadata": {
        "id": "2o3cSATnavB2"
      },
      "source": [
        "import requests"
      ],
      "execution_count": null,
      "outputs": []
    },
    {
      "cell_type": "code",
      "metadata": {
        "id": "rrhGV2ogXp-g"
      },
      "source": [
        "url = \"https://ws.ndc.gov.tw/Download.ashx?u=LzAwMS9hZG1pbmlzdHJhdG9yLzEwL3JlbGZpbGUvNTc4MS82MzkyL2VmMWQ4ZjliLTMxOGMtNDFmZC1hNzgzLWVjNGY5MTMwMjRmOC54bHN4&n=5paw6IGe56i%2f6ZmE5Lu25pW45YiXLnhsc3g%3d&icon=..xlsx\""
      ],
      "execution_count": null,
      "outputs": []
    },
    {
      "cell_type": "code",
      "metadata": {
        "id": "nAb5DwfjaxCA"
      },
      "source": [
        "r = requests.get(url)"
      ],
      "execution_count": null,
      "outputs": []
    },
    {
      "cell_type": "code",
      "metadata": {
        "id": "9UKPl-qWazPN"
      },
      "source": [
        "with open(\"signals.xlsx\",'wb') as f:\n",
        "  f.write(r.content)"
      ],
      "execution_count": null,
      "outputs": []
    },
    {
      "cell_type": "code",
      "metadata": {
        "id": "UYtR7ic9aKlI"
      },
      "source": [
        "signal_df = pd.read_excel(\"signals.xlsx\")"
      ],
      "execution_count": null,
      "outputs": []
    },
    {
      "cell_type": "code",
      "metadata": {
        "id": "mKdxw8BXacLy",
        "outputId": "8b7ccdab-9a06-4373-8435-fea7aaa90e91",
        "colab": {
          "base_uri": "https://localhost:8080/",
          "height": 302
        }
      },
      "source": [
        "signal_df.head()"
      ],
      "execution_count": null,
      "outputs": [
        {
          "output_type": "execute_result",
          "data": {
            "text/html": [
              "<div>\n",
              "<style scoped>\n",
              "    .dataframe tbody tr th:only-of-type {\n",
              "        vertical-align: middle;\n",
              "    }\n",
              "\n",
              "    .dataframe tbody tr th {\n",
              "        vertical-align: top;\n",
              "    }\n",
              "\n",
              "    .dataframe thead th {\n",
              "        text-align: right;\n",
              "    }\n",
              "</style>\n",
              "<table border=\"1\" class=\"dataframe\">\n",
              "  <thead>\n",
              "    <tr style=\"text-align: right;\">\n",
              "      <th></th>\n",
              "      <th>DATE</th>\n",
              "      <th>領先指標綜合指數</th>\n",
              "      <th>領先指標不含趨勢指數</th>\n",
              "      <th>同時指標綜合指數</th>\n",
              "      <th>同時指標不含趨勢指數</th>\n",
              "      <th>落後指標綜合指數</th>\n",
              "      <th>落後指標不含趨勢指數</th>\n",
              "      <th>景氣對策信號綜合分數</th>\n",
              "      <th>景氣對策信號</th>\n",
              "    </tr>\n",
              "  </thead>\n",
              "  <tbody>\n",
              "    <tr>\n",
              "      <th>0</th>\n",
              "      <td>1982-01-01</td>\n",
              "      <td>17.272443</td>\n",
              "      <td>99.979476</td>\n",
              "      <td>18.308795</td>\n",
              "      <td>105.978280</td>\n",
              "      <td>18.044427</td>\n",
              "      <td>104.448013</td>\n",
              "      <td>NaN</td>\n",
              "      <td>NaN</td>\n",
              "    </tr>\n",
              "    <tr>\n",
              "      <th>1</th>\n",
              "      <td>1982-02-01</td>\n",
              "      <td>17.347402</td>\n",
              "      <td>99.566688</td>\n",
              "      <td>18.050104</td>\n",
              "      <td>103.599901</td>\n",
              "      <td>18.452544</td>\n",
              "      <td>105.909733</td>\n",
              "      <td>NaN</td>\n",
              "      <td>NaN</td>\n",
              "    </tr>\n",
              "    <tr>\n",
              "      <th>2</th>\n",
              "      <td>1982-03-01</td>\n",
              "      <td>17.407203</td>\n",
              "      <td>99.067194</td>\n",
              "      <td>17.836870</td>\n",
              "      <td>101.512498</td>\n",
              "      <td>18.798670</td>\n",
              "      <td>106.986254</td>\n",
              "      <td>NaN</td>\n",
              "      <td>NaN</td>\n",
              "    </tr>\n",
              "    <tr>\n",
              "      <th>3</th>\n",
              "      <td>1982-04-01</td>\n",
              "      <td>17.417821</td>\n",
              "      <td>98.290704</td>\n",
              "      <td>17.667172</td>\n",
              "      <td>99.697822</td>\n",
              "      <td>19.043337</td>\n",
              "      <td>107.463671</td>\n",
              "      <td>NaN</td>\n",
              "      <td>NaN</td>\n",
              "    </tr>\n",
              "    <tr>\n",
              "      <th>4</th>\n",
              "      <td>1982-05-01</td>\n",
              "      <td>17.393290</td>\n",
              "      <td>97.322206</td>\n",
              "      <td>17.538337</td>\n",
              "      <td>98.133797</td>\n",
              "      <td>19.169096</td>\n",
              "      <td>107.258530</td>\n",
              "      <td>NaN</td>\n",
              "      <td>NaN</td>\n",
              "    </tr>\n",
              "  </tbody>\n",
              "</table>\n",
              "</div>"
            ],
            "text/plain": [
              "        DATE   領先指標綜合指數  領先指標不含趨勢指數  ...  落後指標不含趨勢指數  景氣對策信號綜合分數  景氣對策信號\n",
              "0 1982-01-01  17.272443   99.979476  ...  104.448013         NaN     NaN\n",
              "1 1982-02-01  17.347402   99.566688  ...  105.909733         NaN     NaN\n",
              "2 1982-03-01  17.407203   99.067194  ...  106.986254         NaN     NaN\n",
              "3 1982-04-01  17.417821   98.290704  ...  107.463671         NaN     NaN\n",
              "4 1982-05-01  17.393290   97.322206  ...  107.258530         NaN     NaN\n",
              "\n",
              "[5 rows x 9 columns]"
            ]
          },
          "metadata": {
            "tags": []
          },
          "execution_count": 51
        }
      ]
    },
    {
      "cell_type": "code",
      "metadata": {
        "id": "plSr4itPa_kW",
        "outputId": "bcda53ad-a55c-46b5-81cd-a2291deec4df",
        "colab": {
          "base_uri": "https://localhost:8080/"
        }
      },
      "source": [
        "signal_df.info()"
      ],
      "execution_count": null,
      "outputs": [
        {
          "output_type": "stream",
          "text": [
            "<class 'pandas.core.frame.DataFrame'>\n",
            "RangeIndex: 465 entries, 0 to 464\n",
            "Data columns (total 9 columns):\n",
            " #   Column      Non-Null Count  Dtype         \n",
            "---  ------      --------------  -----         \n",
            " 0   DATE        465 non-null    datetime64[ns]\n",
            " 1   領先指標綜合指數    465 non-null    float64       \n",
            " 2   領先指標不含趨勢指數  465 non-null    float64       \n",
            " 3   同時指標綜合指數    465 non-null    float64       \n",
            " 4   同時指標不含趨勢指數  465 non-null    float64       \n",
            " 5   落後指標綜合指數    465 non-null    float64       \n",
            " 6   落後指標不含趨勢指數  465 non-null    float64       \n",
            " 7   景氣對策信號綜合分數  441 non-null    float64       \n",
            " 8   景氣對策信號      441 non-null    object        \n",
            "dtypes: datetime64[ns](1), float64(7), object(1)\n",
            "memory usage: 32.8+ KB\n"
          ],
          "name": "stdout"
        }
      ]
    },
    {
      "cell_type": "code",
      "metadata": {
        "id": "TJlvQ3FZbGc1"
      },
      "source": [
        "signal_df = signal_df.set_index('DATE')"
      ],
      "execution_count": null,
      "outputs": []
    },
    {
      "cell_type": "code",
      "metadata": {
        "id": "NQYGVIO8bNij",
        "outputId": "cfccb24d-e134-4b80-c105-0bd835284c47",
        "colab": {
          "base_uri": "https://localhost:8080/",
          "height": 332
        }
      },
      "source": [
        "signal_df.head()"
      ],
      "execution_count": null,
      "outputs": [
        {
          "output_type": "execute_result",
          "data": {
            "text/html": [
              "<div>\n",
              "<style scoped>\n",
              "    .dataframe tbody tr th:only-of-type {\n",
              "        vertical-align: middle;\n",
              "    }\n",
              "\n",
              "    .dataframe tbody tr th {\n",
              "        vertical-align: top;\n",
              "    }\n",
              "\n",
              "    .dataframe thead th {\n",
              "        text-align: right;\n",
              "    }\n",
              "</style>\n",
              "<table border=\"1\" class=\"dataframe\">\n",
              "  <thead>\n",
              "    <tr style=\"text-align: right;\">\n",
              "      <th></th>\n",
              "      <th>領先指標綜合指數</th>\n",
              "      <th>領先指標不含趨勢指數</th>\n",
              "      <th>同時指標綜合指數</th>\n",
              "      <th>同時指標不含趨勢指數</th>\n",
              "      <th>落後指標綜合指數</th>\n",
              "      <th>落後指標不含趨勢指數</th>\n",
              "      <th>景氣對策信號綜合分數</th>\n",
              "      <th>景氣對策信號</th>\n",
              "    </tr>\n",
              "    <tr>\n",
              "      <th>DATE</th>\n",
              "      <th></th>\n",
              "      <th></th>\n",
              "      <th></th>\n",
              "      <th></th>\n",
              "      <th></th>\n",
              "      <th></th>\n",
              "      <th></th>\n",
              "      <th></th>\n",
              "    </tr>\n",
              "  </thead>\n",
              "  <tbody>\n",
              "    <tr>\n",
              "      <th>1982-01-01</th>\n",
              "      <td>17.272443</td>\n",
              "      <td>99.979476</td>\n",
              "      <td>18.308795</td>\n",
              "      <td>105.978280</td>\n",
              "      <td>18.044427</td>\n",
              "      <td>104.448013</td>\n",
              "      <td>NaN</td>\n",
              "      <td>NaN</td>\n",
              "    </tr>\n",
              "    <tr>\n",
              "      <th>1982-02-01</th>\n",
              "      <td>17.347402</td>\n",
              "      <td>99.566688</td>\n",
              "      <td>18.050104</td>\n",
              "      <td>103.599901</td>\n",
              "      <td>18.452544</td>\n",
              "      <td>105.909733</td>\n",
              "      <td>NaN</td>\n",
              "      <td>NaN</td>\n",
              "    </tr>\n",
              "    <tr>\n",
              "      <th>1982-03-01</th>\n",
              "      <td>17.407203</td>\n",
              "      <td>99.067194</td>\n",
              "      <td>17.836870</td>\n",
              "      <td>101.512498</td>\n",
              "      <td>18.798670</td>\n",
              "      <td>106.986254</td>\n",
              "      <td>NaN</td>\n",
              "      <td>NaN</td>\n",
              "    </tr>\n",
              "    <tr>\n",
              "      <th>1982-04-01</th>\n",
              "      <td>17.417821</td>\n",
              "      <td>98.290704</td>\n",
              "      <td>17.667172</td>\n",
              "      <td>99.697822</td>\n",
              "      <td>19.043337</td>\n",
              "      <td>107.463671</td>\n",
              "      <td>NaN</td>\n",
              "      <td>NaN</td>\n",
              "    </tr>\n",
              "    <tr>\n",
              "      <th>1982-05-01</th>\n",
              "      <td>17.393290</td>\n",
              "      <td>97.322206</td>\n",
              "      <td>17.538337</td>\n",
              "      <td>98.133797</td>\n",
              "      <td>19.169096</td>\n",
              "      <td>107.258530</td>\n",
              "      <td>NaN</td>\n",
              "      <td>NaN</td>\n",
              "    </tr>\n",
              "  </tbody>\n",
              "</table>\n",
              "</div>"
            ],
            "text/plain": [
              "             領先指標綜合指數  領先指標不含趨勢指數   同時指標綜合指數  ...  落後指標不含趨勢指數  景氣對策信號綜合分數  景氣對策信號\n",
              "DATE                                          ...                                \n",
              "1982-01-01  17.272443   99.979476  18.308795  ...  104.448013         NaN     NaN\n",
              "1982-02-01  17.347402   99.566688  18.050104  ...  105.909733         NaN     NaN\n",
              "1982-03-01  17.407203   99.067194  17.836870  ...  106.986254         NaN     NaN\n",
              "1982-04-01  17.417821   98.290704  17.667172  ...  107.463671         NaN     NaN\n",
              "1982-05-01  17.393290   97.322206  17.538337  ...  107.258530         NaN     NaN\n",
              "\n",
              "[5 rows x 8 columns]"
            ]
          },
          "metadata": {
            "tags": []
          },
          "execution_count": 54
        }
      ]
    },
    {
      "cell_type": "code",
      "metadata": {
        "id": "zSAWTPFlbPly",
        "outputId": "4e1b167a-782b-4213-86da-2bc4f017b51b",
        "colab": {
          "base_uri": "https://localhost:8080/",
          "height": 487
        }
      },
      "source": [
        "signal_df['領先指標綜合指數']['2020'].plot()"
      ],
      "execution_count": null,
      "outputs": [
        {
          "output_type": "execute_result",
          "data": {
            "text/plain": [
              "<matplotlib.axes._subplots.AxesSubplot at 0x7f060fe28f60>"
            ]
          },
          "metadata": {
            "tags": []
          },
          "execution_count": 56
        },
        {
          "output_type": "display_data",
          "data": {
            "image/png": "[encoded data removed]",
            "text/plain": [
              "<Figure size 640x480 with 1 Axes>"
            ]
          },
          "metadata": {
            "tags": []
          }
        }
      ]
    },
    {
      "cell_type": "markdown",
      "metadata": {
        "id": "8B6Iaz6EcQ1j"
      },
      "source": [
        "## 讀取上市公司基本資料"
      ]
    },
    {
      "cell_type": "code",
      "metadata": {
        "id": "dePbxqRfbauU"
      },
      "source": [
        "url = \"https://dts.twse.com.tw/opendata/t187ap03_L.csv\""
      ],
      "execution_count": null,
      "outputs": []
    },
    {
      "cell_type": "code",
      "metadata": {
        "id": "dl-ofLBUcZSw"
      },
      "source": [
        "company = pd.read_csv(url)"
      ],
      "execution_count": null,
      "outputs": []
    },
    {
      "cell_type": "code",
      "metadata": {
        "id": "7KROk669cf7v",
        "outputId": "c5bccffd-842c-47ab-b075-1759b4328362",
        "colab": {
          "base_uri": "https://localhost:8080/",
          "height": 1000
        }
      },
      "source": [
        "company.head()"
      ],
      "execution_count": null,
      "outputs": [
        {
          "output_type": "execute_result",
          "data": {
            "text/html": [
              "<div>\n",
              "<style scoped>\n",
              "    .dataframe tbody tr th:only-of-type {\n",
              "        vertical-align: middle;\n",
              "    }\n",
              "\n",
              "    .dataframe tbody tr th {\n",
              "        vertical-align: top;\n",
              "    }\n",
              "\n",
              "    .dataframe thead th {\n",
              "        text-align: right;\n",
              "    }\n",
              "</style>\n",
              "<table border=\"1\" class=\"dataframe\">\n",
              "  <thead>\n",
              "    <tr style=\"text-align: right;\">\n",
              "      <th></th>\n",
              "      <th>出表日期</th>\n",
              "      <th>公司代號</th>\n",
              "      <th>公司名稱</th>\n",
              "      <th>公司簡稱</th>\n",
              "      <th>外國企業註冊地國</th>\n",
              "      <th>產業別</th>\n",
              "      <th>住址</th>\n",
              "      <th>營利事業統一編號</th>\n",
              "      <th>董事長</th>\n",
              "      <th>總經理</th>\n",
              "      <th>發言人</th>\n",
              "      <th>發言人職稱</th>\n",
              "      <th>代理發言人</th>\n",
              "      <th>總機電話</th>\n",
              "      <th>成立日期</th>\n",
              "      <th>上市日期</th>\n",
              "      <th>普通股每股面額</th>\n",
              "      <th>實收資本額</th>\n",
              "      <th>私募股數</th>\n",
              "      <th>特別股</th>\n",
              "      <th>編制財務報表類型</th>\n",
              "      <th>股票過戶機構</th>\n",
              "      <th>過戶電話</th>\n",
              "      <th>過戶地址</th>\n",
              "      <th>簽證會計師事務所</th>\n",
              "      <th>簽證會計師1</th>\n",
              "      <th>簽證會計師2</th>\n",
              "      <th>英文簡稱</th>\n",
              "      <th>英文通訊地址</th>\n",
              "      <th>傳真機號碼</th>\n",
              "      <th>電子郵件信箱</th>\n",
              "      <th>網址</th>\n",
              "    </tr>\n",
              "  </thead>\n",
              "  <tbody>\n",
              "    <tr>\n",
              "      <th>0</th>\n",
              "      <td>109/10/29</td>\n",
              "      <td>1101</td>\n",
              "      <td>台灣水泥股份有限公司</td>\n",
              "      <td>台泥</td>\n",
              "      <td>－</td>\n",
              "      <td>水泥工業</td>\n",
              "      <td>台北市中山北路2段113號</td>\n",
              "      <td>11913502</td>\n",
              "      <td>張安平</td>\n",
              "      <td>李鐘培</td>\n",
              "      <td>黃健強</td>\n",
              "      <td>資深副總經理</td>\n",
              "      <td>賴家柔</td>\n",
              "      <td>(02)2531-7099</td>\n",
              "      <td>19501229</td>\n",
              "      <td>19620209</td>\n",
              "      <td>新台幣                 10.0000元</td>\n",
              "      <td>59414007210</td>\n",
              "      <td>0</td>\n",
              "      <td>200000000</td>\n",
              "      <td>1</td>\n",
              "      <td>中國信託商業銀行代理部</td>\n",
              "      <td>66365566</td>\n",
              "      <td>台北市重慶南路一段83號5樓</td>\n",
              "      <td>勤業眾信聯合會計師事務所</td>\n",
              "      <td>邵志明</td>\n",
              "      <td>黃惠敏</td>\n",
              "      <td>TCC</td>\n",
              "      <td>No.113, Sec.2, Zhongshan N. Rd.,Taipei City 10...</td>\n",
              "      <td>(02)2531-6529</td>\n",
              "      <td>finance@taiwancement.com</td>\n",
              "      <td>http://www.taiwancement.com</td>\n",
              "    </tr>\n",
              "    <tr>\n",
              "      <th>1</th>\n",
              "      <td>109/10/29</td>\n",
              "      <td>1102</td>\n",
              "      <td>亞洲水泥股份有限公司</td>\n",
              "      <td>亞泥</td>\n",
              "      <td>－</td>\n",
              "      <td>水泥工業</td>\n",
              "      <td>台北市大安區敦化南路2段207號30、31樓</td>\n",
              "      <td>3244509</td>\n",
              "      <td>徐旭東</td>\n",
              "      <td>李坤炎</td>\n",
              "      <td>周維崑</td>\n",
              "      <td>副總經理</td>\n",
              "      <td>吳玲綾</td>\n",
              "      <td>02-2733-8000</td>\n",
              "      <td>19570321</td>\n",
              "      <td>19620608</td>\n",
              "      <td>新台幣                 10.0000元</td>\n",
              "      <td>33614471980</td>\n",
              "      <td>0</td>\n",
              "      <td>0</td>\n",
              "      <td>1</td>\n",
              "      <td>亞東證券股份有限公司</td>\n",
              "      <td>02-7753-1699</td>\n",
              "      <td>新北市板橋區新站路16號13樓</td>\n",
              "      <td>勤業眾信聯合會計師事務所</td>\n",
              "      <td>戴信維</td>\n",
              "      <td>范有偉</td>\n",
              "      <td>ACC</td>\n",
              "      <td>30-31F., No.207, Sec. 2, Dunhua S. Rd., Da' an...</td>\n",
              "      <td>02-2378-5191</td>\n",
              "      <td>service@acc.com.tw</td>\n",
              "      <td>www.acc.com.tw</td>\n",
              "    </tr>\n",
              "    <tr>\n",
              "      <th>2</th>\n",
              "      <td>109/10/29</td>\n",
              "      <td>1103</td>\n",
              "      <td>嘉新水泥股份有限公司</td>\n",
              "      <td>嘉泥</td>\n",
              "      <td>－</td>\n",
              "      <td>水泥工業</td>\n",
              "      <td>台北市中山北路2段96號</td>\n",
              "      <td>11892801</td>\n",
              "      <td>張剛綸</td>\n",
              "      <td>祁士鉅</td>\n",
              "      <td>王立心</td>\n",
              "      <td>執行副總經理</td>\n",
              "      <td>余曉芸</td>\n",
              "      <td>(02)2551-5211</td>\n",
              "      <td>19541213</td>\n",
              "      <td>19691114</td>\n",
              "      <td>新台幣                 10.0000元</td>\n",
              "      <td>7747805480</td>\n",
              "      <td>0</td>\n",
              "      <td>0</td>\n",
              "      <td>1</td>\n",
              "      <td>群益金鼎證券股份有限公司股代部</td>\n",
              "      <td>(02)2702-3999</td>\n",
              "      <td>台北市敦化南路2段97號地下2樓</td>\n",
              "      <td>勤業眾信聯合會計師事務所</td>\n",
              "      <td>虞成全</td>\n",
              "      <td>張耿禧</td>\n",
              "      <td>CHC</td>\n",
              "      <td>No.96, Sec. 2, Zhongshan N. Rd., Zhongshan Dis...</td>\n",
              "      <td>(02)2511-4002</td>\n",
              "      <td>ir@chcgroup.com.tw</td>\n",
              "      <td>www.chcgroup.com.tw</td>\n",
              "    </tr>\n",
              "    <tr>\n",
              "      <th>3</th>\n",
              "      <td>109/10/29</td>\n",
              "      <td>1104</td>\n",
              "      <td>環球水泥股份有限公司</td>\n",
              "      <td>環泥</td>\n",
              "      <td>－</td>\n",
              "      <td>水泥工業</td>\n",
              "      <td>台北市南京東路二段125號10樓</td>\n",
              "      <td>7568009</td>\n",
              "      <td>侯博義</td>\n",
              "      <td>侯智升</td>\n",
              "      <td>楊宗仁</td>\n",
              "      <td>副總經理</td>\n",
              "      <td>詹志鴻</td>\n",
              "      <td>02-25077801</td>\n",
              "      <td>19600321</td>\n",
              "      <td>19710201</td>\n",
              "      <td>新台幣                 10.0000元</td>\n",
              "      <td>6536091920</td>\n",
              "      <td>0</td>\n",
              "      <td>0</td>\n",
              "      <td>1</td>\n",
              "      <td>華南永昌綜合證券(股)股務代理部</td>\n",
              "      <td>02-27186425</td>\n",
              "      <td>﹝105﹞台北市松山區民生東路四段54號4樓</td>\n",
              "      <td>勤業眾信聯合會計師事務所</td>\n",
              "      <td>楊朝欽</td>\n",
              "      <td>郭麗園</td>\n",
              "      <td>UCC</td>\n",
              "      <td>10th F1., 125 Nanking E.Rd Sec. 2,Taipei Taiwan</td>\n",
              "      <td>02-25075870</td>\n",
              "      <td>ucc@ucctw.com</td>\n",
              "      <td>www.ucctw.com</td>\n",
              "    </tr>\n",
              "    <tr>\n",
              "      <th>4</th>\n",
              "      <td>109/10/29</td>\n",
              "      <td>1108</td>\n",
              "      <td>幸福水泥股份有限公司</td>\n",
              "      <td>幸福</td>\n",
              "      <td>－</td>\n",
              "      <td>水泥工業</td>\n",
              "      <td>台北市松江路237號15樓</td>\n",
              "      <td>40601248</td>\n",
              "      <td>陳兩傳</td>\n",
              "      <td>陳兩傳</td>\n",
              "      <td>溫秀菊</td>\n",
              "      <td>財務部經理</td>\n",
              "      <td>陳一誠</td>\n",
              "      <td>25092188</td>\n",
              "      <td>19740507</td>\n",
              "      <td>19900606</td>\n",
              "      <td>新台幣                 10.0000元</td>\n",
              "      <td>4047380490</td>\n",
              "      <td>0</td>\n",
              "      <td>0</td>\n",
              "      <td>1</td>\n",
              "      <td>永豐金證券股務代理</td>\n",
              "      <td>2381-6288</td>\n",
              "      <td>台北市中正區博愛路17號3樓</td>\n",
              "      <td>勤業眾信聯合會計師事務所</td>\n",
              "      <td>黃海悅</td>\n",
              "      <td>陳招美</td>\n",
              "      <td>LUCKY CEMENT</td>\n",
              "      <td>15TH FL.,NO.237,SUNG KIANG RD.,TAIPEI,TAIWAN,R...</td>\n",
              "      <td>25048672</td>\n",
              "      <td>wendy@luckygrp,com.tw</td>\n",
              "      <td>www.luckygrp.com.tw</td>\n",
              "    </tr>\n",
              "  </tbody>\n",
              "</table>\n",
              "</div>"
            ],
            "text/plain": [
              "        出表日期  公司代號  ...                    電子郵件信箱                           網址\n",
              "0  109/10/29  1101  ...  finance@taiwancement.com  http://www.taiwancement.com\n",
              "1  109/10/29  1102  ...        service@acc.com.tw               www.acc.com.tw\n",
              "2  109/10/29  1103  ...        ir@chcgroup.com.tw          www.chcgroup.com.tw\n",
              "3  109/10/29  1104  ...             ucc@ucctw.com                www.ucctw.com\n",
              "4  109/10/29  1108  ...     wendy@luckygrp,com.tw          www.luckygrp.com.tw\n",
              "\n",
              "[5 rows x 32 columns]"
            ]
          },
          "metadata": {
            "tags": []
          },
          "execution_count": 60
        }
      ]
    },
    {
      "cell_type": "code",
      "metadata": {
        "id": "fX1E8lgPcieD"
      },
      "source": [
        "url = \"https://mopsfin.twse.com.tw/opendata/t187ap03_O.csv\""
      ],
      "execution_count": null,
      "outputs": []
    },
    {
      "cell_type": "code",
      "metadata": {
        "id": "9I831QZbdiCw"
      },
      "source": [
        "otc = pd.read_csv(url)"
      ],
      "execution_count": null,
      "outputs": []
    },
    {
      "cell_type": "code",
      "metadata": {
        "id": "0P7C2wEQdk6N",
        "outputId": "33cca69f-a908-42ec-c224-8823b6e6d4d4",
        "colab": {
          "base_uri": "https://localhost:8080/",
          "height": 1000
        }
      },
      "source": [
        "otc.head()"
      ],
      "execution_count": null,
      "outputs": [
        {
          "output_type": "execute_result",
          "data": {
            "text/html": [
              "<div>\n",
              "<style scoped>\n",
              "    .dataframe tbody tr th:only-of-type {\n",
              "        vertical-align: middle;\n",
              "    }\n",
              "\n",
              "    .dataframe tbody tr th {\n",
              "        vertical-align: top;\n",
              "    }\n",
              "\n",
              "    .dataframe thead th {\n",
              "        text-align: right;\n",
              "    }\n",
              "</style>\n",
              "<table border=\"1\" class=\"dataframe\">\n",
              "  <thead>\n",
              "    <tr style=\"text-align: right;\">\n",
              "      <th></th>\n",
              "      <th>出表日期</th>\n",
              "      <th>公司代號</th>\n",
              "      <th>公司名稱</th>\n",
              "      <th>公司簡稱</th>\n",
              "      <th>外國企業註冊地國</th>\n",
              "      <th>產業別</th>\n",
              "      <th>住址</th>\n",
              "      <th>營利事業統一編號</th>\n",
              "      <th>董事長</th>\n",
              "      <th>總經理</th>\n",
              "      <th>發言人</th>\n",
              "      <th>發言人職稱</th>\n",
              "      <th>代理發言人</th>\n",
              "      <th>總機電話</th>\n",
              "      <th>成立日期</th>\n",
              "      <th>上市日期</th>\n",
              "      <th>普通股每股面額</th>\n",
              "      <th>實收資本額</th>\n",
              "      <th>私募股數</th>\n",
              "      <th>特別股</th>\n",
              "      <th>編制財務報表類型</th>\n",
              "      <th>股票過戶機構</th>\n",
              "      <th>過戶電話</th>\n",
              "      <th>過戶地址</th>\n",
              "      <th>簽證會計師事務所</th>\n",
              "      <th>簽證會計師1</th>\n",
              "      <th>簽證會計師2</th>\n",
              "      <th>英文簡稱</th>\n",
              "      <th>英文通訊地址</th>\n",
              "      <th>傳真機號碼</th>\n",
              "      <th>電子郵件信箱</th>\n",
              "      <th>網址</th>\n",
              "    </tr>\n",
              "  </thead>\n",
              "  <tbody>\n",
              "    <tr>\n",
              "      <th>0</th>\n",
              "      <td>109/10/29</td>\n",
              "      <td>1240</td>\n",
              "      <td>茂生農經股份有限公司</td>\n",
              "      <td>茂生農經</td>\n",
              "      <td>－</td>\n",
              "      <td>農業科技</td>\n",
              "      <td>台北市和平西路一段三十號二樓</td>\n",
              "      <td>18795706</td>\n",
              "      <td>吳清德</td>\n",
              "      <td>黃強</td>\n",
              "      <td>林信鴻</td>\n",
              "      <td>董事長特助</td>\n",
              "      <td>陳月裡</td>\n",
              "      <td>02-23671162</td>\n",
              "      <td>19670218</td>\n",
              "      <td>20180808</td>\n",
              "      <td>新台幣                 10.0000元</td>\n",
              "      <td>350097000</td>\n",
              "      <td>0</td>\n",
              "      <td>0</td>\n",
              "      <td>2</td>\n",
              "      <td>元大證券股份有限公司股務代理部</td>\n",
              "      <td>02-2586-5859</td>\n",
              "      <td>台北市承德路三段210號地下一樓</td>\n",
              "      <td>勤業眾信聯合會計師事務所</td>\n",
              "      <td>陳重成</td>\n",
              "      <td>張耿禧</td>\n",
              "      <td>MORNSUN</td>\n",
              "      <td>2F.,No.30,Sec. 1,Heping W.Rd.,Zhongzheng Dist....</td>\n",
              "      <td>02-23640694</td>\n",
              "      <td>bedford@morn-sun.com.tw</td>\n",
              "      <td>https://www.morn-sun.com.tw/</td>\n",
              "    </tr>\n",
              "    <tr>\n",
              "      <th>1</th>\n",
              "      <td>109/10/29</td>\n",
              "      <td>1258</td>\n",
              "      <td>其祥生物科技控股有限公司</td>\n",
              "      <td>其祥-KY</td>\n",
              "      <td>KY 開曼群島                                       ...</td>\n",
              "      <td>食品工業</td>\n",
              "      <td>台北市中山區松江路51號8樓</td>\n",
              "      <td>53028230</td>\n",
              "      <td>王其祥</td>\n",
              "      <td>王建山</td>\n",
              "      <td>王建山</td>\n",
              "      <td>總經理</td>\n",
              "      <td>游志宗</td>\n",
              "      <td>(02)2518-4933</td>\n",
              "      <td>20100511</td>\n",
              "      <td>20111212</td>\n",
              "      <td>新台幣                 10.0000元</td>\n",
              "      <td>368197910</td>\n",
              "      <td>0</td>\n",
              "      <td>0</td>\n",
              "      <td>1</td>\n",
              "      <td>中國信託商業銀行代理部</td>\n",
              "      <td>(02)6636-5566</td>\n",
              "      <td>台北市重慶南路1段83號3樓</td>\n",
              "      <td>安永聯合會計師事務所</td>\n",
              "      <td>王彥鈞</td>\n",
              "      <td>劉榮進</td>\n",
              "      <td>Kee Song</td>\n",
              "      <td>8F., No.51, Songjiang Rd., Zhongshan Dist.Taip...</td>\n",
              "      <td>(02)2503-4933</td>\n",
              "      <td>investor@keesong.com</td>\n",
              "      <td>http://keesongbiotech.com/</td>\n",
              "    </tr>\n",
              "    <tr>\n",
              "      <th>2</th>\n",
              "      <td>109/10/29</td>\n",
              "      <td>1259</td>\n",
              "      <td>安心食品服務股份有限公司</td>\n",
              "      <td>安心</td>\n",
              "      <td>－</td>\n",
              "      <td>觀光事業</td>\n",
              "      <td>台北市中山區松江路156-1號8樓</td>\n",
              "      <td>23928945</td>\n",
              "      <td>林建元</td>\n",
              "      <td>高順興</td>\n",
              "      <td>施啟寅</td>\n",
              "      <td>協理</td>\n",
              "      <td>何頎胤</td>\n",
              "      <td>(02)2567-5001</td>\n",
              "      <td>19901123</td>\n",
              "      <td>20111215</td>\n",
              "      <td>新台幣                 10.0000元</td>\n",
              "      <td>323895000</td>\n",
              "      <td>0</td>\n",
              "      <td>0</td>\n",
              "      <td>1</td>\n",
              "      <td>群益金鼎證券(股)公司股務代理部</td>\n",
              "      <td>(02)27023999</td>\n",
              "      <td>(106)台北市大安區敦化南路二段97號B2</td>\n",
              "      <td>資誠聯合會計師事務所</td>\n",
              "      <td>支秉鈞</td>\n",
              "      <td>吳郁隆</td>\n",
              "      <td>AN-SHIN</td>\n",
              "      <td>8F.156-1,Sung Chiang RoadTaipei 104 R.O.C.</td>\n",
              "      <td>(02)2567-1692</td>\n",
              "      <td>ir@mos.com.tw</td>\n",
              "      <td>http://www.mos.com.tw</td>\n",
              "    </tr>\n",
              "    <tr>\n",
              "      <th>3</th>\n",
              "      <td>109/10/29</td>\n",
              "      <td>1264</td>\n",
              "      <td>德麥食品股份有限公司</td>\n",
              "      <td>德麥</td>\n",
              "      <td>－</td>\n",
              "      <td>食品工業</td>\n",
              "      <td>新北市五股區五權五路31號</td>\n",
              "      <td>23420497</td>\n",
              "      <td>林雪嬌</td>\n",
              "      <td>吳文欽</td>\n",
              "      <td>邱俊榮</td>\n",
              "      <td>財務經理</td>\n",
              "      <td>賴素瑛</td>\n",
              "      <td>(02)2298-1347</td>\n",
              "      <td>19890629</td>\n",
              "      <td>20150409</td>\n",
              "      <td>新台幣                 10.0000元</td>\n",
              "      <td>336959700</td>\n",
              "      <td>0</td>\n",
              "      <td>0</td>\n",
              "      <td>1</td>\n",
              "      <td>富邦綜合證券(股)公司股務代理部</td>\n",
              "      <td>(02)2361-1300</td>\n",
              "      <td>台北市中正區許昌街17號2樓</td>\n",
              "      <td>勤業眾信聯合會計師事務所</td>\n",
              "      <td>陳薔旬</td>\n",
              "      <td>陳招美</td>\n",
              "      <td>TEHMAG</td>\n",
              "      <td>No.31,Wuquan 5th Rd.,Wugu Dist.,New Taipei Cit...</td>\n",
              "      <td>(02)2298-2263</td>\n",
              "      <td>ir@tehmag.com.tw</td>\n",
              "      <td>http://www.tehmag.com.tw</td>\n",
              "    </tr>\n",
              "    <tr>\n",
              "      <th>4</th>\n",
              "      <td>109/10/29</td>\n",
              "      <td>1268</td>\n",
              "      <td>漢來美食股份有限公司</td>\n",
              "      <td>漢來美食</td>\n",
              "      <td>－</td>\n",
              "      <td>觀光事業</td>\n",
              "      <td>高雄市前金區成功一路266號21樓之1</td>\n",
              "      <td>80352343</td>\n",
              "      <td>賴宗成</td>\n",
              "      <td>林淑婷</td>\n",
              "      <td>林淑婷</td>\n",
              "      <td>總經理</td>\n",
              "      <td>柯柏良</td>\n",
              "      <td>(07)213-5788</td>\n",
              "      <td>20030109</td>\n",
              "      <td>20170927</td>\n",
              "      <td>新台幣                 10.0000元</td>\n",
              "      <td>377237300</td>\n",
              "      <td>0</td>\n",
              "      <td>0</td>\n",
              "      <td>1</td>\n",
              "      <td>福邦證券股份有限公司</td>\n",
              "      <td>(02)2371-1658</td>\n",
              "      <td>台北市中正區忠孝西路一段6號6樓</td>\n",
              "      <td>勤業眾信聯合會計師事務所</td>\n",
              "      <td>陳珍麗</td>\n",
              "      <td>江佳玲</td>\n",
              "      <td>Hi-Lai Foods</td>\n",
              "      <td>21F-1, No.266, Cheng-Kung 1st Road,80146 Kaohs...</td>\n",
              "      <td>(07)215-5956</td>\n",
              "      <td>stock@hilai-foods.com</td>\n",
              "      <td>www.hilai-foods.com</td>\n",
              "    </tr>\n",
              "  </tbody>\n",
              "</table>\n",
              "</div>"
            ],
            "text/plain": [
              "        出表日期  公司代號  ...                   電子郵件信箱                             網址\n",
              "0  109/10/29  1240  ...  bedford@morn-sun.com.tw  https://www.morn-sun.com.tw/　\n",
              "1  109/10/29  1258  ...     investor@keesong.com     http://keesongbiotech.com/\n",
              "2  109/10/29  1259  ...            ir@mos.com.tw          http://www.mos.com.tw\n",
              "3  109/10/29  1264  ...         ir@tehmag.com.tw       http://www.tehmag.com.tw\n",
              "4  109/10/29  1268  ...    stock@hilai-foods.com            www.hilai-foods.com\n",
              "\n",
              "[5 rows x 32 columns]"
            ]
          },
          "metadata": {
            "tags": []
          },
          "execution_count": 63
        }
      ]
    },
    {
      "cell_type": "code",
      "metadata": {
        "id": "N06BfKDOdnNG",
        "outputId": "769d7eb4-c1da-459c-9cb6-80ef5073962f",
        "colab": {
          "base_uri": "https://localhost:8080/",
          "height": 1000
        }
      },
      "source": [
        "company[company['產業別']=='水泥工業']"
      ],
      "execution_count": null,
      "outputs": [
        {
          "output_type": "execute_result",
          "data": {
            "text/html": [
              "<div>\n",
              "<style scoped>\n",
              "    .dataframe tbody tr th:only-of-type {\n",
              "        vertical-align: middle;\n",
              "    }\n",
              "\n",
              "    .dataframe tbody tr th {\n",
              "        vertical-align: top;\n",
              "    }\n",
              "\n",
              "    .dataframe thead th {\n",
              "        text-align: right;\n",
              "    }\n",
              "</style>\n",
              "<table border=\"1\" class=\"dataframe\">\n",
              "  <thead>\n",
              "    <tr style=\"text-align: right;\">\n",
              "      <th></th>\n",
              "      <th>出表日期</th>\n",
              "      <th>公司代號</th>\n",
              "      <th>公司名稱</th>\n",
              "      <th>公司簡稱</th>\n",
              "      <th>外國企業註冊地國</th>\n",
              "      <th>產業別</th>\n",
              "      <th>住址</th>\n",
              "      <th>營利事業統一編號</th>\n",
              "      <th>董事長</th>\n",
              "      <th>總經理</th>\n",
              "      <th>發言人</th>\n",
              "      <th>發言人職稱</th>\n",
              "      <th>代理發言人</th>\n",
              "      <th>總機電話</th>\n",
              "      <th>成立日期</th>\n",
              "      <th>上市日期</th>\n",
              "      <th>普通股每股面額</th>\n",
              "      <th>實收資本額</th>\n",
              "      <th>私募股數</th>\n",
              "      <th>特別股</th>\n",
              "      <th>編制財務報表類型</th>\n",
              "      <th>股票過戶機構</th>\n",
              "      <th>過戶電話</th>\n",
              "      <th>過戶地址</th>\n",
              "      <th>簽證會計師事務所</th>\n",
              "      <th>簽證會計師1</th>\n",
              "      <th>簽證會計師2</th>\n",
              "      <th>英文簡稱</th>\n",
              "      <th>英文通訊地址</th>\n",
              "      <th>傳真機號碼</th>\n",
              "      <th>電子郵件信箱</th>\n",
              "      <th>網址</th>\n",
              "    </tr>\n",
              "  </thead>\n",
              "  <tbody>\n",
              "    <tr>\n",
              "      <th>0</th>\n",
              "      <td>109/10/29</td>\n",
              "      <td>1101</td>\n",
              "      <td>台灣水泥股份有限公司</td>\n",
              "      <td>台泥</td>\n",
              "      <td>－</td>\n",
              "      <td>水泥工業</td>\n",
              "      <td>台北市中山北路2段113號</td>\n",
              "      <td>11913502</td>\n",
              "      <td>張安平</td>\n",
              "      <td>李鐘培</td>\n",
              "      <td>黃健強</td>\n",
              "      <td>資深副總經理</td>\n",
              "      <td>賴家柔</td>\n",
              "      <td>(02)2531-7099</td>\n",
              "      <td>19501229</td>\n",
              "      <td>19620209</td>\n",
              "      <td>新台幣                 10.0000元</td>\n",
              "      <td>59414007210</td>\n",
              "      <td>0</td>\n",
              "      <td>200000000</td>\n",
              "      <td>1</td>\n",
              "      <td>中國信託商業銀行代理部</td>\n",
              "      <td>66365566</td>\n",
              "      <td>台北市重慶南路一段83號5樓</td>\n",
              "      <td>勤業眾信聯合會計師事務所</td>\n",
              "      <td>邵志明</td>\n",
              "      <td>黃惠敏</td>\n",
              "      <td>TCC</td>\n",
              "      <td>No.113, Sec.2, Zhongshan N. Rd.,Taipei City 10...</td>\n",
              "      <td>(02)2531-6529</td>\n",
              "      <td>finance@taiwancement.com</td>\n",
              "      <td>http://www.taiwancement.com</td>\n",
              "    </tr>\n",
              "    <tr>\n",
              "      <th>1</th>\n",
              "      <td>109/10/29</td>\n",
              "      <td>1102</td>\n",
              "      <td>亞洲水泥股份有限公司</td>\n",
              "      <td>亞泥</td>\n",
              "      <td>－</td>\n",
              "      <td>水泥工業</td>\n",
              "      <td>台北市大安區敦化南路2段207號30、31樓</td>\n",
              "      <td>3244509</td>\n",
              "      <td>徐旭東</td>\n",
              "      <td>李坤炎</td>\n",
              "      <td>周維崑</td>\n",
              "      <td>副總經理</td>\n",
              "      <td>吳玲綾</td>\n",
              "      <td>02-2733-8000</td>\n",
              "      <td>19570321</td>\n",
              "      <td>19620608</td>\n",
              "      <td>新台幣                 10.0000元</td>\n",
              "      <td>33614471980</td>\n",
              "      <td>0</td>\n",
              "      <td>0</td>\n",
              "      <td>1</td>\n",
              "      <td>亞東證券股份有限公司</td>\n",
              "      <td>02-7753-1699</td>\n",
              "      <td>新北市板橋區新站路16號13樓</td>\n",
              "      <td>勤業眾信聯合會計師事務所</td>\n",
              "      <td>戴信維</td>\n",
              "      <td>范有偉</td>\n",
              "      <td>ACC</td>\n",
              "      <td>30-31F., No.207, Sec. 2, Dunhua S. Rd., Da' an...</td>\n",
              "      <td>02-2378-5191</td>\n",
              "      <td>service@acc.com.tw</td>\n",
              "      <td>www.acc.com.tw</td>\n",
              "    </tr>\n",
              "    <tr>\n",
              "      <th>2</th>\n",
              "      <td>109/10/29</td>\n",
              "      <td>1103</td>\n",
              "      <td>嘉新水泥股份有限公司</td>\n",
              "      <td>嘉泥</td>\n",
              "      <td>－</td>\n",
              "      <td>水泥工業</td>\n",
              "      <td>台北市中山北路2段96號</td>\n",
              "      <td>11892801</td>\n",
              "      <td>張剛綸</td>\n",
              "      <td>祁士鉅</td>\n",
              "      <td>王立心</td>\n",
              "      <td>執行副總經理</td>\n",
              "      <td>余曉芸</td>\n",
              "      <td>(02)2551-5211</td>\n",
              "      <td>19541213</td>\n",
              "      <td>19691114</td>\n",
              "      <td>新台幣                 10.0000元</td>\n",
              "      <td>7747805480</td>\n",
              "      <td>0</td>\n",
              "      <td>0</td>\n",
              "      <td>1</td>\n",
              "      <td>群益金鼎證券股份有限公司股代部</td>\n",
              "      <td>(02)2702-3999</td>\n",
              "      <td>台北市敦化南路2段97號地下2樓</td>\n",
              "      <td>勤業眾信聯合會計師事務所</td>\n",
              "      <td>虞成全</td>\n",
              "      <td>張耿禧</td>\n",
              "      <td>CHC</td>\n",
              "      <td>No.96, Sec. 2, Zhongshan N. Rd., Zhongshan Dis...</td>\n",
              "      <td>(02)2511-4002</td>\n",
              "      <td>ir@chcgroup.com.tw</td>\n",
              "      <td>www.chcgroup.com.tw</td>\n",
              "    </tr>\n",
              "    <tr>\n",
              "      <th>3</th>\n",
              "      <td>109/10/29</td>\n",
              "      <td>1104</td>\n",
              "      <td>環球水泥股份有限公司</td>\n",
              "      <td>環泥</td>\n",
              "      <td>－</td>\n",
              "      <td>水泥工業</td>\n",
              "      <td>台北市南京東路二段125號10樓</td>\n",
              "      <td>7568009</td>\n",
              "      <td>侯博義</td>\n",
              "      <td>侯智升</td>\n",
              "      <td>楊宗仁</td>\n",
              "      <td>副總經理</td>\n",
              "      <td>詹志鴻</td>\n",
              "      <td>02-25077801</td>\n",
              "      <td>19600321</td>\n",
              "      <td>19710201</td>\n",
              "      <td>新台幣                 10.0000元</td>\n",
              "      <td>6536091920</td>\n",
              "      <td>0</td>\n",
              "      <td>0</td>\n",
              "      <td>1</td>\n",
              "      <td>華南永昌綜合證券(股)股務代理部</td>\n",
              "      <td>02-27186425</td>\n",
              "      <td>﹝105﹞台北市松山區民生東路四段54號4樓</td>\n",
              "      <td>勤業眾信聯合會計師事務所</td>\n",
              "      <td>楊朝欽</td>\n",
              "      <td>郭麗園</td>\n",
              "      <td>UCC</td>\n",
              "      <td>10th F1., 125 Nanking E.Rd Sec. 2,Taipei Taiwan</td>\n",
              "      <td>02-25075870</td>\n",
              "      <td>ucc@ucctw.com</td>\n",
              "      <td>www.ucctw.com</td>\n",
              "    </tr>\n",
              "    <tr>\n",
              "      <th>4</th>\n",
              "      <td>109/10/29</td>\n",
              "      <td>1108</td>\n",
              "      <td>幸福水泥股份有限公司</td>\n",
              "      <td>幸福</td>\n",
              "      <td>－</td>\n",
              "      <td>水泥工業</td>\n",
              "      <td>台北市松江路237號15樓</td>\n",
              "      <td>40601248</td>\n",
              "      <td>陳兩傳</td>\n",
              "      <td>陳兩傳</td>\n",
              "      <td>溫秀菊</td>\n",
              "      <td>財務部經理</td>\n",
              "      <td>陳一誠</td>\n",
              "      <td>25092188</td>\n",
              "      <td>19740507</td>\n",
              "      <td>19900606</td>\n",
              "      <td>新台幣                 10.0000元</td>\n",
              "      <td>4047380490</td>\n",
              "      <td>0</td>\n",
              "      <td>0</td>\n",
              "      <td>1</td>\n",
              "      <td>永豐金證券股務代理</td>\n",
              "      <td>2381-6288</td>\n",
              "      <td>台北市中正區博愛路17號3樓</td>\n",
              "      <td>勤業眾信聯合會計師事務所</td>\n",
              "      <td>黃海悅</td>\n",
              "      <td>陳招美</td>\n",
              "      <td>LUCKY CEMENT</td>\n",
              "      <td>15TH FL.,NO.237,SUNG KIANG RD.,TAIPEI,TAIWAN,R...</td>\n",
              "      <td>25048672</td>\n",
              "      <td>wendy@luckygrp,com.tw</td>\n",
              "      <td>www.luckygrp.com.tw</td>\n",
              "    </tr>\n",
              "    <tr>\n",
              "      <th>5</th>\n",
              "      <td>109/10/29</td>\n",
              "      <td>1109</td>\n",
              "      <td>信大水泥股份有限公司</td>\n",
              "      <td>信大</td>\n",
              "      <td>－</td>\n",
              "      <td>水泥工業</td>\n",
              "      <td>台北市寶慶路37號7樓</td>\n",
              "      <td>3279507</td>\n",
              "      <td>楊智雄</td>\n",
              "      <td>楊大寬</td>\n",
              "      <td>吳連富</td>\n",
              "      <td>副總經理</td>\n",
              "      <td>朱萍</td>\n",
              "      <td>(02)23816731</td>\n",
              "      <td>19640315</td>\n",
              "      <td>19911205</td>\n",
              "      <td>新台幣                 10.0000元</td>\n",
              "      <td>3419578680</td>\n",
              "      <td>0</td>\n",
              "      <td>0</td>\n",
              "      <td>1</td>\n",
              "      <td>中國信託商業銀行代理部</td>\n",
              "      <td>(02)6636-5566</td>\n",
              "      <td>台北巿重慶南路一段83號5樓</td>\n",
              "      <td>資誠聯合會計師事務所</td>\n",
              "      <td>賴宗羲</td>\n",
              "      <td>徐明釧</td>\n",
              "      <td>HsingTa</td>\n",
              "      <td>7TH FL.,No.37 Pao Ching RoadTaipei Taiwan R.O.C.</td>\n",
              "      <td>23314086</td>\n",
              "      <td>service@hsingta.com.tw</td>\n",
              "      <td>www.hsingta.com.tw</td>\n",
              "    </tr>\n",
              "    <tr>\n",
              "      <th>6</th>\n",
              "      <td>109/10/29</td>\n",
              "      <td>1110</td>\n",
              "      <td>東南水泥股份有限公司</td>\n",
              "      <td>東泥</td>\n",
              "      <td>－</td>\n",
              "      <td>水泥工業</td>\n",
              "      <td>高雄市前金區五福三路21號4樓之1</td>\n",
              "      <td>83078600</td>\n",
              "      <td>陳敏斷</td>\n",
              "      <td>吳長直</td>\n",
              "      <td>黃薪翰</td>\n",
              "      <td>財務部經理</td>\n",
              "      <td>唐榮宗</td>\n",
              "      <td>07-2711121</td>\n",
              "      <td>19561228</td>\n",
              "      <td>19941022</td>\n",
              "      <td>新台幣                 10.0000元</td>\n",
              "      <td>5720007970</td>\n",
              "      <td>0</td>\n",
              "      <td>0</td>\n",
              "      <td>1</td>\n",
              "      <td>元大證券股份有限公司</td>\n",
              "      <td>02-25865859</td>\n",
              "      <td>台北市承德路三段210號地下室1樓</td>\n",
              "      <td>國富浩華聯合會計師事務所</td>\n",
              "      <td>蔡淑滿</td>\n",
              "      <td>李青霖</td>\n",
              "      <td>TUNA CEMENT</td>\n",
              "      <td>NO.21 Wu Fu 3 RoadKaohsiung, Taiwan, R.O.C.</td>\n",
              "      <td>07-9505895</td>\n",
              "      <td>southeast@secement.com</td>\n",
              "      <td>www.southeastcement.com.tw</td>\n",
              "    </tr>\n",
              "  </tbody>\n",
              "</table>\n",
              "</div>"
            ],
            "text/plain": [
              "        出表日期  公司代號  ...                    電子郵件信箱                           網址\n",
              "0  109/10/29  1101  ...  finance@taiwancement.com  http://www.taiwancement.com\n",
              "1  109/10/29  1102  ...        service@acc.com.tw               www.acc.com.tw\n",
              "2  109/10/29  1103  ...        ir@chcgroup.com.tw          www.chcgroup.com.tw\n",
              "3  109/10/29  1104  ...             ucc@ucctw.com                www.ucctw.com\n",
              "4  109/10/29  1108  ...     wendy@luckygrp,com.tw          www.luckygrp.com.tw\n",
              "5  109/10/29  1109  ...    service@hsingta.com.tw           www.hsingta.com.tw\n",
              "6  109/10/29  1110  ...    southeast@secement.com   www.southeastcement.com.tw\n",
              "\n",
              "[7 rows x 32 columns]"
            ]
          },
          "metadata": {
            "tags": []
          },
          "execution_count": 64
        }
      ]
    },
    {
      "cell_type": "code",
      "metadata": {
        "id": "8c8iHumheAdn",
        "outputId": "f3f024bb-ed38-4a64-cf9e-1421f403d2aa",
        "colab": {
          "base_uri": "https://localhost:8080/",
          "height": 1000
        }
      },
      "source": [
        "company[company['產業別'].str.contains('電子')]"
      ],
      "execution_count": null,
      "outputs": [
        {
          "output_type": "execute_result",
          "data": {
            "text/html": [
              "<div>\n",
              "<style scoped>\n",
              "    .dataframe tbody tr th:only-of-type {\n",
              "        vertical-align: middle;\n",
              "    }\n",
              "\n",
              "    .dataframe tbody tr th {\n",
              "        vertical-align: top;\n",
              "    }\n",
              "\n",
              "    .dataframe thead th {\n",
              "        text-align: right;\n",
              "    }\n",
              "</style>\n",
              "<table border=\"1\" class=\"dataframe\">\n",
              "  <thead>\n",
              "    <tr style=\"text-align: right;\">\n",
              "      <th></th>\n",
              "      <th>出表日期</th>\n",
              "      <th>公司代號</th>\n",
              "      <th>公司名稱</th>\n",
              "      <th>公司簡稱</th>\n",
              "      <th>外國企業註冊地國</th>\n",
              "      <th>產業別</th>\n",
              "      <th>住址</th>\n",
              "      <th>營利事業統一編號</th>\n",
              "      <th>董事長</th>\n",
              "      <th>總經理</th>\n",
              "      <th>發言人</th>\n",
              "      <th>發言人職稱</th>\n",
              "      <th>代理發言人</th>\n",
              "      <th>總機電話</th>\n",
              "      <th>成立日期</th>\n",
              "      <th>上市日期</th>\n",
              "      <th>普通股每股面額</th>\n",
              "      <th>實收資本額</th>\n",
              "      <th>私募股數</th>\n",
              "      <th>特別股</th>\n",
              "      <th>編制財務報表類型</th>\n",
              "      <th>股票過戶機構</th>\n",
              "      <th>過戶電話</th>\n",
              "      <th>過戶地址</th>\n",
              "      <th>簽證會計師事務所</th>\n",
              "      <th>簽證會計師1</th>\n",
              "      <th>簽證會計師2</th>\n",
              "      <th>英文簡稱</th>\n",
              "      <th>英文通訊地址</th>\n",
              "      <th>傳真機號碼</th>\n",
              "      <th>電子郵件信箱</th>\n",
              "      <th>網址</th>\n",
              "    </tr>\n",
              "  </thead>\n",
              "  <tbody>\n",
              "    <tr>\n",
              "      <th>93</th>\n",
              "      <td>109/10/29</td>\n",
              "      <td>1471</td>\n",
              "      <td>首利實業股份有限公司</td>\n",
              "      <td>首利</td>\n",
              "      <td>－</td>\n",
              "      <td>電子零組件業</td>\n",
              "      <td>新北市五股區五權七路18號3樓</td>\n",
              "      <td>7699023</td>\n",
              "      <td>鄭傑</td>\n",
              "      <td>鄭傑</td>\n",
              "      <td>邱志偉</td>\n",
              "      <td>總經理特助</td>\n",
              "      <td>林大鈞</td>\n",
              "      <td>(02)2299-1907</td>\n",
              "      <td>19821021</td>\n",
              "      <td>20000306</td>\n",
              "      <td>新台幣                 10.0000元</td>\n",
              "      <td>1504145360</td>\n",
              "      <td>5000000</td>\n",
              "      <td>0</td>\n",
              "      <td>1</td>\n",
              "      <td>福邦證券股份有限公司股務代理部</td>\n",
              "      <td>(02)23711658</td>\n",
              "      <td>臺北市中正區忠孝西路一段6號6樓</td>\n",
              "      <td>資誠聯合會計師事務所</td>\n",
              "      <td>徐永堅</td>\n",
              "      <td>吳漢期</td>\n",
              "      <td>SL</td>\n",
              "      <td>3F,NO.18 Wu Chun 7 Rd.,Wu Gu Industry AreaWu G...</td>\n",
              "      <td>(02)2290-1974</td>\n",
              "      <td>solelytec@soly-tech.com</td>\n",
              "      <td>www.soly-tech.com</td>\n",
              "    </tr>\n",
              "    <tr>\n",
              "      <th>133</th>\n",
              "      <td>109/10/29</td>\n",
              "      <td>1582</td>\n",
              "      <td>信錦企業股份有限公司</td>\n",
              "      <td>信錦</td>\n",
              "      <td>－</td>\n",
              "      <td>電子零組件業</td>\n",
              "      <td>新北市中和區建康路168號9樓</td>\n",
              "      <td>35966577</td>\n",
              "      <td>陳秋郎</td>\n",
              "      <td>陳秋郎</td>\n",
              "      <td>張雅惠</td>\n",
              "      <td>副總經理</td>\n",
              "      <td>劉皇佑</td>\n",
              "      <td>02-66215888</td>\n",
              "      <td>19790707</td>\n",
              "      <td>20091217</td>\n",
              "      <td>新台幣                 10.0000元</td>\n",
              "      <td>1237241710</td>\n",
              "      <td>0</td>\n",
              "      <td>0</td>\n",
              "      <td>1</td>\n",
              "      <td>中國信託商業銀行代理部</td>\n",
              "      <td>02-66365566</td>\n",
              "      <td>台北市重慶南路一段83號5樓</td>\n",
              "      <td>勤業眾信會計師事務所</td>\n",
              "      <td>李東峰</td>\n",
              "      <td>陳致源</td>\n",
              "      <td>SYNCMOLD</td>\n",
              "      <td>9F., No.168, Jiankang Rd.,Zhonghe Dist.New Tai...</td>\n",
              "      <td>02-66216000</td>\n",
              "      <td>information@syncmold.com.tw</td>\n",
              "      <td>www.syncmold.com.tw</td>\n",
              "    </tr>\n",
              "    <tr>\n",
              "      <th>228</th>\n",
              "      <td>109/10/29</td>\n",
              "      <td>2059</td>\n",
              "      <td>川湖科技股份有限公司</td>\n",
              "      <td>川湖</td>\n",
              "      <td>－</td>\n",
              "      <td>電子零組件業</td>\n",
              "      <td>高雄市路竹區順安路275巷136號</td>\n",
              "      <td>22274989</td>\n",
              "      <td>林聰吉</td>\n",
              "      <td>林淑珍</td>\n",
              "      <td>王俊強</td>\n",
              "      <td>執行副總</td>\n",
              "      <td>蔡秋貞</td>\n",
              "      <td>(07)9599688</td>\n",
              "      <td>19860922</td>\n",
              "      <td>20080625</td>\n",
              "      <td>新台幣                 10.0000元</td>\n",
              "      <td>952970720</td>\n",
              "      <td>0</td>\n",
              "      <td>0</td>\n",
              "      <td>1</td>\n",
              "      <td>中國信託商業銀行代理部</td>\n",
              "      <td>(02)6636-5566</td>\n",
              "      <td>台北市中正區重慶南路1段83號5樓</td>\n",
              "      <td>勤業眾信聯合會計師事務所</td>\n",
              "      <td>陳珍麗</td>\n",
              "      <td>江佳玲</td>\n",
              "      <td>king slide</td>\n",
              "      <td>No. 136, Lane 275, Shun An Rd, Lu Chu District...</td>\n",
              "      <td>(07)6967018</td>\n",
              "      <td>ir@kingslide.com</td>\n",
              "      <td>http://www.kingslide.com</td>\n",
              "    </tr>\n",
              "    <tr>\n",
              "      <th>260</th>\n",
              "      <td>109/10/29</td>\n",
              "      <td>2308</td>\n",
              "      <td>台達電子工業股份有限公司</td>\n",
              "      <td>台達電</td>\n",
              "      <td>－</td>\n",
              "      <td>電子零組件業</td>\n",
              "      <td>台北市內湖區瑞光路186號</td>\n",
              "      <td>34051920</td>\n",
              "      <td>海英俊</td>\n",
              "      <td>張訓海</td>\n",
              "      <td>周志宏</td>\n",
              "      <td>永續長</td>\n",
              "      <td>張凱堯/施孟璁</td>\n",
              "      <td>(02)87972088</td>\n",
              "      <td>19750820</td>\n",
              "      <td>19881219</td>\n",
              "      <td>新台幣                 10.0000元</td>\n",
              "      <td>25975433290</td>\n",
              "      <td>0</td>\n",
              "      <td>0</td>\n",
              "      <td>1</td>\n",
              "      <td>中國信託商業銀行股份有限公司</td>\n",
              "      <td>(02)6636-5566</td>\n",
              "      <td>100台北市中正區重慶南路一段八十三號五樓</td>\n",
              "      <td>資誠聯合會計師事務所</td>\n",
              "      <td>林玉寬</td>\n",
              "      <td>周建宏</td>\n",
              "      <td>DELTA</td>\n",
              "      <td>No. 186, Ruey Kuang Road, Neihu DistrictTaipei...</td>\n",
              "      <td>(02)87972351</td>\n",
              "      <td>2308@deltaww.com</td>\n",
              "      <td>http://www.deltaww.com</td>\n",
              "    </tr>\n",
              "    <tr>\n",
              "      <th>261</th>\n",
              "      <td>109/10/29</td>\n",
              "      <td>2312</td>\n",
              "      <td>金寶電子工業股份有限公司</td>\n",
              "      <td>金寶</td>\n",
              "      <td>－</td>\n",
              "      <td>其他電子業</td>\n",
              "      <td>(105)臺北市南京東路五段99號10樓</td>\n",
              "      <td>4370927</td>\n",
              "      <td>許勝雄</td>\n",
              "      <td>陳威昌</td>\n",
              "      <td>許文漢</td>\n",
              "      <td>資深處長</td>\n",
              "      <td>游千慧</td>\n",
              "      <td>(02)26622660</td>\n",
              "      <td>19730424</td>\n",
              "      <td>19891107</td>\n",
              "      <td>新台幣                 10.0000元</td>\n",
              "      <td>14665042110</td>\n",
              "      <td>0</td>\n",
              "      <td>0</td>\n",
              "      <td>1</td>\n",
              "      <td>中國信託商業銀行代理部</td>\n",
              "      <td>(02)66365566</td>\n",
              "      <td>(100)臺北市重慶南路一段83號5樓</td>\n",
              "      <td>安永聯合會計師事務所</td>\n",
              "      <td>林素雯</td>\n",
              "      <td>陳智忠</td>\n",
              "      <td>KINPO</td>\n",
              "      <td>10TH FL., 99 NAN-JING E. RD., SEC. 5,TAIPEI, T...</td>\n",
              "      <td>(02)26624900</td>\n",
              "      <td>stock@kinpo.com.tw</td>\n",
              "      <td>www.kinpo.com.tw</td>\n",
              "    </tr>\n",
              "    <tr>\n",
              "      <th>...</th>\n",
              "      <td>...</td>\n",
              "      <td>...</td>\n",
              "      <td>...</td>\n",
              "      <td>...</td>\n",
              "      <td>...</td>\n",
              "      <td>...</td>\n",
              "      <td>...</td>\n",
              "      <td>...</td>\n",
              "      <td>...</td>\n",
              "      <td>...</td>\n",
              "      <td>...</td>\n",
              "      <td>...</td>\n",
              "      <td>...</td>\n",
              "      <td>...</td>\n",
              "      <td>...</td>\n",
              "      <td>...</td>\n",
              "      <td>...</td>\n",
              "      <td>...</td>\n",
              "      <td>...</td>\n",
              "      <td>...</td>\n",
              "      <td>...</td>\n",
              "      <td>...</td>\n",
              "      <td>...</td>\n",
              "      <td>...</td>\n",
              "      <td>...</td>\n",
              "      <td>...</td>\n",
              "      <td>...</td>\n",
              "      <td>...</td>\n",
              "      <td>...</td>\n",
              "      <td>...</td>\n",
              "      <td>...</td>\n",
              "      <td>...</td>\n",
              "    </tr>\n",
              "    <tr>\n",
              "      <th>865</th>\n",
              "      <td>109/10/29</td>\n",
              "      <td>8103</td>\n",
              "      <td>瀚荃股份有限公司</td>\n",
              "      <td>瀚荃</td>\n",
              "      <td>－</td>\n",
              "      <td>電子零組件業</td>\n",
              "      <td>新北市淡水區中正東路一段3巷9號9樓</td>\n",
              "      <td>23632274</td>\n",
              "      <td>楊超群</td>\n",
              "      <td>竺大智</td>\n",
              "      <td>王霈蓮</td>\n",
              "      <td>資深副理</td>\n",
              "      <td>雷舜貽</td>\n",
              "      <td>26201000</td>\n",
              "      <td>19900316</td>\n",
              "      <td>20090929</td>\n",
              "      <td>新台幣                 10.0000元</td>\n",
              "      <td>789534130</td>\n",
              "      <td>0</td>\n",
              "      <td>0</td>\n",
              "      <td>1</td>\n",
              "      <td>華南永昌綜合證券(股)公司</td>\n",
              "      <td>27186425</td>\n",
              "      <td>台北巿民生東路四段54號4樓</td>\n",
              "      <td>安侯建業聯合會計師事務所</td>\n",
              "      <td>陳雅琳</td>\n",
              "      <td>蘇彥達</td>\n",
              "      <td>CviLux</td>\n",
              "      <td>9F.,No.9,Lane 3,Sec.1,Chung-Cheng East Road,Ta...</td>\n",
              "      <td>26282333</td>\n",
              "      <td>apple.lei@cvilux.com</td>\n",
              "      <td>www.cvilux-group.com</td>\n",
              "    </tr>\n",
              "    <tr>\n",
              "      <th>869</th>\n",
              "      <td>109/10/29</td>\n",
              "      <td>8112</td>\n",
              "      <td>至上電子股份有限公司</td>\n",
              "      <td>至上</td>\n",
              "      <td>－</td>\n",
              "      <td>電子通路業</td>\n",
              "      <td>台北市內湖區港墘路189號7樓</td>\n",
              "      <td>22368959</td>\n",
              "      <td>葛均</td>\n",
              "      <td>葛均</td>\n",
              "      <td>林志隆</td>\n",
              "      <td>董事長室特別助理</td>\n",
              "      <td>陳力行</td>\n",
              "      <td>02-26578809</td>\n",
              "      <td>19870305</td>\n",
              "      <td>20071231</td>\n",
              "      <td>新台幣                 10.0000元</td>\n",
              "      <td>3784964730</td>\n",
              "      <td>0</td>\n",
              "      <td>0</td>\n",
              "      <td>1</td>\n",
              "      <td>群益金鼎證券股份有限公司</td>\n",
              "      <td>02-2702-3999</td>\n",
              "      <td>台北市大安區敦化南路二段97號地下二樓</td>\n",
              "      <td>安侯建業聯合會計師事務所</td>\n",
              "      <td>余聖河</td>\n",
              "      <td>陳振乾</td>\n",
              "      <td>Supreme</td>\n",
              "      <td>7 F, No. 189, Kangchien Rd., Nei-Hu,　Taipei, T...</td>\n",
              "      <td>02-26572209</td>\n",
              "      <td>jason@supreme.com.tw</td>\n",
              "      <td>www.supreme.com.tw</td>\n",
              "    </tr>\n",
              "    <tr>\n",
              "      <th>874</th>\n",
              "      <td>109/10/29</td>\n",
              "      <td>8201</td>\n",
              "      <td>無敵科技股份有限公司</td>\n",
              "      <td>無敵</td>\n",
              "      <td>－</td>\n",
              "      <td>其他電子業</td>\n",
              "      <td>台北市內湖區瑞光路513巷36號10樓</td>\n",
              "      <td>23163259</td>\n",
              "      <td>楊人捷</td>\n",
              "      <td>李圍正</td>\n",
              "      <td>李圍正</td>\n",
              "      <td>總經理</td>\n",
              "      <td>高貴梅</td>\n",
              "      <td>77265111</td>\n",
              "      <td>19890217</td>\n",
              "      <td>20071029</td>\n",
              "      <td>新台幣                 10.0000元</td>\n",
              "      <td>623662750</td>\n",
              "      <td>0</td>\n",
              "      <td>0</td>\n",
              "      <td>1</td>\n",
              "      <td>台新國際商業銀行股務代理部</td>\n",
              "      <td>25048125</td>\n",
              "      <td>台北市建國北路一段96號B1</td>\n",
              "      <td>安侯建業聯合會計師事務所</td>\n",
              "      <td>連淑凌</td>\n",
              "      <td>林琬琬</td>\n",
              "      <td>BESTA</td>\n",
              "      <td>10FL.,No.36,Lane 513,Rui Guang Road,Nei Hu Dis...</td>\n",
              "      <td>77267333</td>\n",
              "      <td>lilycheng@besta.com.tw</td>\n",
              "      <td>http://www.besta.com.tw</td>\n",
              "    </tr>\n",
              "    <tr>\n",
              "      <th>876</th>\n",
              "      <td>109/10/29</td>\n",
              "      <td>8213</td>\n",
              "      <td>志超科技股份有限公司</td>\n",
              "      <td>志超</td>\n",
              "      <td>－</td>\n",
              "      <td>電子零組件業</td>\n",
              "      <td>桃園市平鎮區工業二路１２號</td>\n",
              "      <td>70801378</td>\n",
              "      <td>徐正民</td>\n",
              "      <td>李明熹</td>\n",
              "      <td>胡秀杏</td>\n",
              "      <td>財務處副總</td>\n",
              "      <td>林振旻</td>\n",
              "      <td>03-4698860</td>\n",
              "      <td>19980421</td>\n",
              "      <td>20091225</td>\n",
              "      <td>新台幣                 10.0000元</td>\n",
              "      <td>2712424880</td>\n",
              "      <td>0</td>\n",
              "      <td>0</td>\n",
              "      <td>1</td>\n",
              "      <td>凱基證券(股)公司股務代理部</td>\n",
              "      <td>02-23892999</td>\n",
              "      <td>台北市重慶南路一段２號５樓</td>\n",
              "      <td>安侯建業聯合會計師事務所</td>\n",
              "      <td>江忠儀</td>\n",
              "      <td>連淑凌</td>\n",
              "      <td>tpt</td>\n",
              "      <td>NO.12, INDUSTRIAL 2 RD.,PINGZHEN DIST., TAOYUA...</td>\n",
              "      <td>03-4698277</td>\n",
              "      <td>ritahu@tpt-pcb.com.tw</td>\n",
              "      <td>www.tpt-pcb.com.tw</td>\n",
              "    </tr>\n",
              "    <tr>\n",
              "      <th>879</th>\n",
              "      <td>109/10/29</td>\n",
              "      <td>8249</td>\n",
              "      <td>菱光科技股份有限公司</td>\n",
              "      <td>菱光</td>\n",
              "      <td>－</td>\n",
              "      <td>電子零組件業</td>\n",
              "      <td>台北市內湖區南京東路六段501號9樓</td>\n",
              "      <td>16596646</td>\n",
              "      <td>黃育仁</td>\n",
              "      <td>蔡元豪</td>\n",
              "      <td>歐聖志</td>\n",
              "      <td>財務處協理</td>\n",
              "      <td>陳鶴心</td>\n",
              "      <td>(02)89121289</td>\n",
              "      <td>19980615</td>\n",
              "      <td>20050517</td>\n",
              "      <td>新台幣                 10.0000元</td>\n",
              "      <td>1270550000</td>\n",
              "      <td>0</td>\n",
              "      <td>0</td>\n",
              "      <td>1</td>\n",
              "      <td>元大證券(股)公司股務代理部</td>\n",
              "      <td>(02)2586-5859</td>\n",
              "      <td>台北市承德路三段210號地下一樓</td>\n",
              "      <td>資誠聯合會計師事務所</td>\n",
              "      <td>張淑瓊</td>\n",
              "      <td>林鈞堯</td>\n",
              "      <td>CSI</td>\n",
              "      <td>9th Floor, No. 501, Section 6 Nanjing East Roa...</td>\n",
              "      <td>(02)89121111</td>\n",
              "      <td>spokesperson@csi-sensor.com.tw</td>\n",
              "      <td>www.csi-sensor.com.tw</td>\n",
              "    </tr>\n",
              "  </tbody>\n",
              "</table>\n",
              "<p>154 rows × 32 columns</p>\n",
              "</div>"
            ],
            "text/plain": [
              "          出表日期  公司代號  ...                          電子郵件信箱                        網址\n",
              "93   109/10/29  1471  ...         solelytec@soly-tech.com         www.soly-tech.com\n",
              "133  109/10/29  1582  ...     information@syncmold.com.tw       www.syncmold.com.tw\n",
              "228  109/10/29  2059  ...                ir@kingslide.com  http://www.kingslide.com\n",
              "260  109/10/29  2308  ...                2308@deltaww.com    http://www.deltaww.com\n",
              "261  109/10/29  2312  ...              stock@kinpo.com.tw          www.kinpo.com.tw\n",
              "..         ...   ...  ...                             ...                       ...\n",
              "865  109/10/29  8103  ...            apple.lei@cvilux.com      www.cvilux-group.com\n",
              "869  109/10/29  8112  ...            jason@supreme.com.tw        www.supreme.com.tw\n",
              "874  109/10/29  8201  ...          lilycheng@besta.com.tw   http://www.besta.com.tw\n",
              "876  109/10/29  8213  ...           ritahu@tpt-pcb.com.tw        www.tpt-pcb.com.tw\n",
              "879  109/10/29  8249  ...  spokesperson@csi-sensor.com.tw     www.csi-sensor.com.tw\n",
              "\n",
              "[154 rows x 32 columns]"
            ]
          },
          "metadata": {
            "tags": []
          },
          "execution_count": 65
        }
      ]
    },
    {
      "cell_type": "code",
      "metadata": {
        "id": "yk6p-RE1eP4o"
      },
      "source": [
        ""
      ],
      "execution_count": null,
      "outputs": []
    }
  ]
}