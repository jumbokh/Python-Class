{
  "nbformat": 4,
  "nbformat_minor": 0,
  "metadata": {
    "colab": {
      "provenance": [],
      "authorship_tag": "ABX9TyMZh7tVA0N9TmcR/CFSaf6S",
      "include_colab_link": true
    },
    "kernelspec": {
      "name": "python3",
      "display_name": "Python 3"
    },
    "language_info": {
      "name": "python"
    }
  },
  "cells": [
    {
      "cell_type": "markdown",
      "metadata": {
        "id": "view-in-github",
        "colab_type": "text"
      },
      "source": [
        "<a href=\"https://colab.research.google.com/github/jumbokh/Python-Class/blob/master/AIGC/notebooks/tryGemini.ipynb\" target=\"_parent\"><img src=\"https://colab.research.google.com/assets/colab-badge.svg\" alt=\"Open In Colab\"/></a>"
      ]
    },
    {
      "cell_type": "code",
      "execution_count": 3,
      "metadata": {
        "colab": {
          "base_uri": "https://localhost:8080/"
        },
        "id": "7p-sOpGGE__3",
        "outputId": "29894acd-d4c0-431c-b064-7b330a456e5d"
      },
      "outputs": [
        {
          "output_type": "stream",
          "name": "stdout",
          "text": [
            "   用户id  浏览量  点赞量  观看作者数  观看作品数   观看作品平均时长  观看配乐数  完整观看数  去过的城市数  观看作品城市数\n",
            "0     0   34    0     31     28  12.058824     31     18       1       28\n",
            "1     1   28    1     28     25  12.357143     26     14       1       25\n",
            "2     2   56    0     56     45  10.357143     47     19       3       45\n",
            "3     3  117    1    116     76   9.982906     89     60       1       76\n",
            "4     4  123    0    117     84  10.853659     94     77       1       84\n",
            "(59232, 10)\n",
            "               用户id           浏览量           点赞量         观看作者数         观看作品数  \\\n",
            "count  59232.000000  59232.000000  59232.000000  59232.000000  59232.000000   \n",
            "mean   32337.581004     29.330632      0.283175     28.337942     20.322680   \n",
            "std    19746.364788     49.589417      2.240180     46.642395     24.595297   \n",
            "min        0.000000      1.000000      0.000000      1.000000      1.000000   \n",
            "25%    15096.750000      4.000000      0.000000      4.000000      4.000000   \n",
            "50%    31813.500000     12.000000      0.000000     12.000000     11.000000   \n",
            "75%    48472.250000     34.000000      0.000000     33.000000     28.000000   \n",
            "max    70710.000000   1951.000000    183.000000   1740.000000    279.000000   \n",
            "\n",
            "           观看作品平均时长         观看配乐数         完整观看数        去过的城市数       观看作品城市数  \n",
            "count  59232.000000  59232.000000  59232.000000  59232.000000  59232.000000  \n",
            "mean      11.331897     25.611392     11.759995      1.155372     20.322680  \n",
            "std        3.301528     38.459314     16.970857      0.529922     24.595297  \n",
            "min        2.000000      1.000000      0.000000      1.000000      1.000000  \n",
            "25%        9.705882      4.000000      2.000000      1.000000      4.000000  \n",
            "50%       10.833333     12.000000      6.000000      1.000000     11.000000  \n",
            "75%       12.088944     31.000000     15.000000      1.000000     28.000000  \n",
            "max       42.000000   1197.000000    284.000000     10.000000    279.000000  \n",
            "用户id        0\n",
            "浏览量         0\n",
            "点赞量         0\n",
            "观看作者数       0\n",
            "观看作品数       0\n",
            "观看作品平均时长    0\n",
            "观看配乐数       0\n",
            "完整观看数       0\n",
            "去过的城市数      0\n",
            "观看作品城市数     0\n",
            "dtype: int64\n",
            "(59232, 10)\n",
            "   用户id  浏览量  点赞量  观看作者数  观看作品数   观看作品平均时长  观看配乐数  完整观看数  去过的城市数  观看作品城市数\n",
            "0     0   34    0     31     28  12.058824     31     18       1       28\n",
            "1     1   28    1     28     25  12.357143     26     14       1       25\n",
            "2     2   56    0     56     45  10.357143     47     19       3       45\n",
            "3     3  117    1    116     76   9.982906     89     60       1       76\n",
            "4     4  123    0    117     84  10.853659     94     77       1       84\n"
          ]
        }
      ],
      "source": [
        "import pandas as pd\n",
        "\n",
        "# Read the CSV file\n",
        "df = pd.read_csv('/content/用户特征.csv')\n",
        "\n",
        "# Show the first five rows\n",
        "print(df.head())\n",
        "\n",
        "# Show the number of rows and columns\n",
        "print(df.shape)\n",
        "\n",
        "# Get descriptive statistics of the numerical columns\n",
        "print(df.describe())\n",
        "\n",
        "# Check for missing values\n",
        "print(df.isnull().sum())\n",
        "\n",
        "# Drop duplicate rows\n",
        "df.drop_duplicates(inplace=True)\n",
        "\n",
        "# Show the updated number of rows and columns\n",
        "print(df.shape)\n",
        "\n",
        "# Encode categorical columns\n",
        "## df = pd.get_dummies(df, columns=['性别', '城市等级'])\n",
        "\n",
        "# Show the updated data frame\n",
        "print(df.head())"
      ]
    }
  ]
}