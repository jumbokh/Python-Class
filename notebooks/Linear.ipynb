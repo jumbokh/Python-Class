{
  "nbformat": 4,
  "nbformat_minor": 0,
  "metadata": {
    "colab": {
      "provenance": [],
      "authorship_tag": "ABX9TyNBjzZOvGfhrPxM9iLc18gJ",
      "include_colab_link": true
    },
    "kernelspec": {
      "name": "python3",
      "display_name": "Python 3"
    },
    "language_info": {
      "name": "python"
    }
  },
  "cells": [
    {
      "cell_type": "markdown",
      "metadata": {
        "id": "view-in-github",
        "colab_type": "text"
      },
      "source": [
        "<a href=\"https://colab.research.google.com/github/jumbokh/Python-Class/blob/master/notebooks/Linear.ipynb\" target=\"_parent\"><img src=\"https://colab.research.google.com/assets/colab-badge.svg\" alt=\"Open In Colab\"/></a>"
      ]
    },
    {
      "cell_type": "code",
      "execution_count": 1,
      "metadata": {
        "id": "0yLgs7nwpY6K"
      },
      "outputs": [],
      "source": [
        "import numpy as np"
      ]
    },
    {
      "cell_type": "code",
      "source": [
        "b = np.roots([1,2]) # x+2=0"
      ],
      "metadata": {
        "id": "njJ9Bam9peB4"
      },
      "execution_count": 2,
      "outputs": []
    },
    {
      "cell_type": "code",
      "source": [
        "print(b)"
      ],
      "metadata": {
        "colab": {
          "base_uri": "https://localhost:8080/"
        },
        "id": "r6hTVg-npqne",
        "outputId": "dc8973f0-b34f-463b-9554-0eca4244c317"
      },
      "execution_count": 3,
      "outputs": [
        {
          "output_type": "stream",
          "name": "stdout",
          "text": [
            "[-2.]\n"
          ]
        }
      ]
    },
    {
      "cell_type": "markdown",
      "source": [
        "### X^2-4x-12=0"
      ],
      "metadata": {
        "id": "gU1ZTPxFpyYK"
      }
    },
    {
      "cell_type": "code",
      "source": [
        "ans = np.roots([1,-4,-12]) "
      ],
      "metadata": {
        "id": "LarjAyLuptrm"
      },
      "execution_count": 4,
      "outputs": []
    },
    {
      "cell_type": "code",
      "source": [
        "print(ans)"
      ],
      "metadata": {
        "colab": {
          "base_uri": "https://localhost:8080/"
        },
        "id": "5WA8OQJEqDlA",
        "outputId": "ef653a84-8be6-4d15-d0f6-9ab216f407c9"
      },
      "execution_count": 5,
      "outputs": [
        {
          "output_type": "stream",
          "name": "stdout",
          "text": [
            "[ 6. -2.]\n"
          ]
        }
      ]
    },
    {
      "cell_type": "markdown",
      "source": [
        "### x^3-3x^2-16x-12=0"
      ],
      "metadata": {
        "id": "S6_Y6UP6qY9L"
      }
    },
    {
      "cell_type": "code",
      "source": [
        "ans = np.roots([1,-3,-16,-12])"
      ],
      "metadata": {
        "id": "mQ-zh_W9qYAQ"
      },
      "execution_count": 6,
      "outputs": []
    },
    {
      "cell_type": "code",
      "source": [
        "print(ans)"
      ],
      "metadata": {
        "colab": {
          "base_uri": "https://localhost:8080/"
        },
        "id": "HRTJYk6qqFAk",
        "outputId": "c820e210-bbb2-42da-b511-fbf99867d88d"
      },
      "execution_count": 7,
      "outputs": [
        {
          "output_type": "stream",
          "name": "stdout",
          "text": [
            "[ 6. -2. -1.]\n"
          ]
        }
      ]
    },
    {
      "cell_type": "markdown",
      "source": [
        "### 3x+y=5\n",
        "### x-2y=-3"
      ],
      "metadata": {
        "id": "TRCZcI0Uq5Jn"
      }
    },
    {
      "cell_type": "code",
      "source": [
        "import numpy as np"
      ],
      "metadata": {
        "id": "a3gyuEC2qpyk"
      },
      "execution_count": 8,
      "outputs": []
    },
    {
      "cell_type": "code",
      "source": [
        "c = np.array([[3,1],[1,-2]])\n",
        "d = np.array([5,-3])"
      ],
      "metadata": {
        "id": "BV_d9xmVrCLL"
      },
      "execution_count": 10,
      "outputs": []
    },
    {
      "cell_type": "code",
      "source": [
        "ans = np.linalg.solve(c,d)"
      ],
      "metadata": {
        "id": "8_o-cr6MrUnD"
      },
      "execution_count": 11,
      "outputs": []
    },
    {
      "cell_type": "code",
      "source": [
        "print(ans)"
      ],
      "metadata": {
        "colab": {
          "base_uri": "https://localhost:8080/"
        },
        "id": "kNW-78KRrmFZ",
        "outputId": "28053f17-4e46-49d1-cf23-74f511a77ab0"
      },
      "execution_count": 12,
      "outputs": [
        {
          "output_type": "stream",
          "name": "stdout",
          "text": [
            "[1. 2.]\n"
          ]
        }
      ]
    },
    {
      "cell_type": "markdown",
      "source": [
        "### x + y - z = -2\n",
        "### x +    z = 2\n",
        "### x - y + 2z = 5"
      ],
      "metadata": {
        "id": "5JmYVgUNr-nQ"
      }
    },
    {
      "cell_type": "code",
      "source": [
        "c = np.array([[1,1,-1],[1,0,1],[1,-1,2]])\n",
        "d = np.array([-2,2,5])"
      ],
      "metadata": {
        "id": "73mOSTVWro9q"
      },
      "execution_count": 14,
      "outputs": []
    },
    {
      "cell_type": "code",
      "source": [
        "ans = np.linalg.solve(c,d)\n",
        "print(ans)"
      ],
      "metadata": {
        "colab": {
          "base_uri": "https://localhost:8080/"
        },
        "id": "Dyek8tu1sikA",
        "outputId": "dd217f3b-bb9b-4cb7-da49-b1d8dec1c708"
      },
      "execution_count": 15,
      "outputs": [
        {
          "output_type": "stream",
          "name": "stdout",
          "text": [
            "[ 1. -2.  1.]\n"
          ]
        }
      ]
    },
    {
      "cell_type": "code",
      "source": [
        "import numpy as np\n",
        "import matplotlib.pyplot as plt"
      ],
      "metadata": {
        "id": "hRZeXVMdsvfX"
      },
      "execution_count": 16,
      "outputs": []
    },
    {
      "cell_type": "code",
      "source": [
        "x = np.arange(-5,5,1)\n",
        "y = 2*x +1\n",
        "print(x)\n",
        "print(y)"
      ],
      "metadata": {
        "colab": {
          "base_uri": "https://localhost:8080/"
        },
        "id": "KvA_WiGXwH_h",
        "outputId": "9a7c3353-427d-4592-e0c5-d53e7c8e5366"
      },
      "execution_count": 17,
      "outputs": [
        {
          "output_type": "stream",
          "name": "stdout",
          "text": [
            "[-5 -4 -3 -2 -1  0  1  2  3  4]\n",
            "[-9 -7 -5 -3 -1  1  3  5  7  9]\n"
          ]
        }
      ]
    },
    {
      "cell_type": "code",
      "source": [
        "plt.plot(x,y)\n",
        "plt.axhline(y=0)\n",
        "plt.axvline(x=0)\n",
        "plt.show()"
      ],
      "metadata": {
        "colab": {
          "base_uri": "https://localhost:8080/",
          "height": 265
        },
        "id": "sruXcdeZwa_w",
        "outputId": "7e4dcc7a-d352-479f-dad6-1f3836227fc5"
      },
      "execution_count": 20,
      "outputs": [
        {
          "output_type": "display_data",
          "data": {
            "text/plain": [
              "<Figure size 432x288 with 1 Axes>"
            ],
            "image/png": "[encoded data removed]"
          },
          "metadata": {
            "needs_background": "light"
          }
        }
      ]
    },
    {
      "cell_type": "markdown",
      "source": [
        "### 畫線\n",
        "### y = x + 6\n",
        "### y = -2x + 3"
      ],
      "metadata": {
        "id": "1i8MrJPOxZkI"
      }
    },
    {
      "cell_type": "code",
      "source": [
        "import numpy as np\n",
        "import matplotlib.pyplot as plt"
      ],
      "metadata": {
        "id": "38M_YEhowhow"
      },
      "execution_count": 21,
      "outputs": []
    },
    {
      "cell_type": "code",
      "source": [
        "x = np.arange(-5,5,1)\n",
        "y1 = x + 6\n",
        "y2 = -2*x +3\n",
        "print(x)\n",
        "print(y1)\n",
        "print(y2)"
      ],
      "metadata": {
        "colab": {
          "base_uri": "https://localhost:8080/"
        },
        "id": "kCRScJcPw1Ya",
        "outputId": "2e7f3627-5be2-416c-db5d-8e0e3dba3dac"
      },
      "execution_count": 22,
      "outputs": [
        {
          "output_type": "stream",
          "name": "stdout",
          "text": [
            "[-5 -4 -3 -2 -1  0  1  2  3  4]\n",
            "[ 1  2  3  4  5  6  7  8  9 10]\n",
            "[13 11  9  7  5  3  1 -1 -3 -5]\n"
          ]
        }
      ]
    },
    {
      "cell_type": "code",
      "source": [
        "plt.plot(x,y1)\n",
        "plt.plot(x,y2)\n",
        "plt.axhline(y=0)\n",
        "plt.axvline(x=0)\n",
        "plt.show()"
      ],
      "metadata": {
        "colab": {
          "base_uri": "https://localhost:8080/",
          "height": 265
        },
        "id": "6ep4r1QBzFi0",
        "outputId": "9a797b3f-67f0-4fe6-e402-9c4ca8fcfab1"
      },
      "execution_count": 23,
      "outputs": [
        {
          "output_type": "display_data",
          "data": {
            "text/plain": [
              "<Figure size 432x288 with 1 Axes>"
            ],
            "image/png": "[encoded data removed]"
          },
          "metadata": {
            "needs_background": "light"
          }
        }
      ]
    },
    {
      "cell_type": "markdown",
      "source": [
        "### y = x^2 -6x +10"
      ],
      "metadata": {
        "id": "oUSgMKMA1uil"
      }
    },
    {
      "cell_type": "code",
      "source": [
        "x = np.arange(-3,10,1)\n",
        "y1 = x^2 - 6*x + 10\n",
        "print(x)\n",
        "print(y1)"
      ],
      "metadata": {
        "colab": {
          "base_uri": "https://localhost:8080/"
        },
        "id": "zcIdX92T11Nr",
        "outputId": "4b10ea13-2541-4141-c98a-a9f8354f6f11"
      },
      "execution_count": 24,
      "outputs": [
        {
          "output_type": "stream",
          "name": "stdout",
          "text": [
            "[-3 -2 -1  0  1  2  3  4  5  6  7  8  9]\n",
            "[-29 -26 -19  12   7   2  -7 -16 -21 -18 -27 -44 -33]\n"
          ]
        }
      ]
    },
    {
      "cell_type": "code",
      "source": [
        "plt.plot(x,y1)\n",
        "plt.axhline(y=0)\n",
        "plt.axvline(x=0)\n",
        "plt.show()"
      ],
      "metadata": {
        "colab": {
          "base_uri": "https://localhost:8080/",
          "height": 265
        },
        "id": "gEseJ_T52QHQ",
        "outputId": "c2c85654-71f1-48c9-bfdb-8c43e3a235fb"
      },
      "execution_count": 25,
      "outputs": [
        {
          "output_type": "display_data",
          "data": {
            "text/plain": [
              "<Figure size 432x288 with 1 Axes>"
            ],
            "image/png": "[encoded data removed]"
          },
          "metadata": {
            "needs_background": "light"
          }
        }
      ]
    },
    {
      "cell_type": "markdown",
      "source": [
        "### x^2 + y^2/4 = 1\n",
        "### x^2/4 + y^2 = 1\n",
        "### y = SIN(x)"
      ],
      "metadata": {
        "id": "hExirC9fzyMc"
      }
    },
    {
      "cell_type": "markdown",
      "source": [
        "y1 = +- 2* SQRT(1-x^2)"
      ],
      "metadata": {
        "id": "V0KIZksI27qD"
      }
    },
    {
      "cell_type": "code",
      "source": [
        "import math\n",
        "def f(x):\n",
        "    return int(x)\n",
        "f2 = np.vectorize(f)\n",
        "x = np.arange(-1,1,0.1)\n",
        "plt.plot(x, f2(x))\n",
        "plt.show()"
      ],
      "metadata": {
        "colab": {
          "base_uri": "https://localhost:8080/",
          "height": 265
        },
        "id": "boNpii2dzQTs",
        "outputId": "64a03bfd-3129-4201-b1ce-b498b5019b6d"
      },
      "execution_count": 29,
      "outputs": [
        {
          "output_type": "display_data",
          "data": {
            "text/plain": [
              "<Figure size 432x288 with 1 Axes>"
            ],
            "image/png": "[encoded data removed]"
          },
          "metadata": {
            "needs_background": "light"
          }
        }
      ]
    },
    {
      "cell_type": "code",
      "source": [
        "x = np.arange(-1,1,0.1)\n",
        "y1 = 2 * np.sqrt(1-x**2)\n",
        "y2 = -2 * np.sqrt(1-x**2)"
      ],
      "metadata": {
        "id": "xkEHgqVr3kqL"
      },
      "execution_count": 41,
      "outputs": []
    },
    {
      "cell_type": "code",
      "source": [
        "plt.plot(x,y1)\n",
        "plt.plot(x,y2)\n",
        "plt.axhline(y=0)\n",
        "plt.axvline(x=0)\n",
        "plt.show()"
      ],
      "metadata": {
        "colab": {
          "base_uri": "https://localhost:8080/",
          "height": 265
        },
        "id": "15LcnNjF7BZM",
        "outputId": "b6724479-1bf4-4be9-9f79-a20a087aa74b"
      },
      "execution_count": 42,
      "outputs": [
        {
          "output_type": "display_data",
          "data": {
            "text/plain": [
              "<Figure size 432x288 with 1 Axes>"
            ],
            "image/png": "[encoded data removed]"
          },
          "metadata": {
            "needs_background": "light"
          }
        }
      ]
    },
    {
      "cell_type": "code",
      "source": [
        "x = np.arange(-2,2,0.1)\n",
        "y1 = 2 * np.sqrt(1-(x**2)/4)\n",
        "y2 = -2 * np.sqrt(1-(x**2)/4)"
      ],
      "metadata": {
        "id": "S0hpBTmz8JRh"
      },
      "execution_count": 43,
      "outputs": []
    },
    {
      "cell_type": "code",
      "source": [
        "plt.plot(x,y1)\n",
        "plt.plot(x,y2)\n",
        "plt.axhline(y=0)\n",
        "plt.axvline(x=0)\n",
        "plt.show()"
      ],
      "metadata": {
        "colab": {
          "base_uri": "https://localhost:8080/",
          "height": 265
        },
        "id": "6yy8FAr59Wfw",
        "outputId": "812fb794-66bf-42d7-ec8a-064b53ed001c"
      },
      "execution_count": 44,
      "outputs": [
        {
          "output_type": "display_data",
          "data": {
            "text/plain": [
              "<Figure size 432x288 with 1 Axes>"
            ],
            "image/png": "[encoded data removed]"
          },
          "metadata": {
            "needs_background": "light"
          }
        }
      ]
    },
    {
      "cell_type": "code",
      "source": [
        "x = np.arange(-4,4,0.1)\n",
        "y = np.sin(x)"
      ],
      "metadata": {
        "id": "z_7qEnhV9ZCG"
      },
      "execution_count": 45,
      "outputs": []
    },
    {
      "cell_type": "code",
      "source": [
        "plt.plot(x,y)\n",
        "plt.axhline(y=0)\n",
        "plt.axvline(x=0)\n",
        "plt.show()"
      ],
      "metadata": {
        "colab": {
          "base_uri": "https://localhost:8080/",
          "height": 265
        },
        "id": "XgE5fGay9yHW",
        "outputId": "5096a17b-3101-4c8c-f1a8-1efdc83d2cb9"
      },
      "execution_count": 46,
      "outputs": [
        {
          "output_type": "display_data",
          "data": {
            "text/plain": [
              "<Figure size 432x288 with 1 Axes>"
            ],
            "image/png": "[encoded data removed]"
          },
          "metadata": {
            "needs_background": "light"
          }
        }
      ]
    },
    {
      "cell_type": "code",
      "source": [
        "\n",
        "#!/usr/bin/python\n",
        "# -*- coding: UTF-8 -*-\n",
        "\"\"\"\n",
        "python解方程\n",
        "\"\"\"\n",
        " \n",
        "from scipy.optimize import fsolve\n",
        " \n",
        "def solve_function(unsolved_value):\n",
        "    x,y,z=unsolved_value[0],unsolved_value[1],unsolved_value[2]\n",
        "    return [\n",
        "        x**2+y**2-10,\n",
        "        y**2+z**2-34,\n",
        "        x**2+z**2-26,\n",
        "    ]\n",
        " \n",
        "solved=fsolve(solve_function,[0, 0, 0])\n",
        "print(solved)\n",
        " \n",
        " \n",
        "print(\"Program done!\")\n",
        " \n",
        "\"\"\"\n",
        "运行结果：\n",
        "[-1.  3.  5.]\n",
        "Program done!\n",
        "\n",
        "————————————————\n",
        "版权声明：本文为CSDN博主「祥瑞Coding」的原创文章，遵循CC 4.0 BY-SA版权协议，转载请附上原文出处链接及本声明。\n",
        "原文链接：https://blog.csdn.net/weixin_36474809/article/details/104476870\n",
        "\"\"\""
      ],
      "metadata": {
        "colab": {
          "base_uri": "https://localhost:8080/",
          "height": 87
        },
        "id": "PQTvGV4y94zO",
        "outputId": "297cd995-baf7-40ac-dc29-716b6c59c493"
      },
      "execution_count": 47,
      "outputs": [
        {
          "output_type": "stream",
          "name": "stdout",
          "text": [
            "[-1.  3.  5.]\n",
            "Program done!\n"
          ]
        },
        {
          "output_type": "execute_result",
          "data": {
            "text/plain": [
              "'\\n运行结果：\\n[-1.  3.  5.]\\nProgram done!\\n\\n————————————————\\n版权声明：本文为CSDN博主「祥瑞Coding」的原创文章，遵循CC 4.0 BY-SA版权协议，转载请附上原文出处链接及本声明。\\n原文链接：https://blog.csdn.net/weixin_36474809/article/details/104476870\\n'"
            ],
            "application/vnd.google.colaboratory.intrinsic+json": {
              "type": "string"
            }
          },
          "metadata": {},
          "execution_count": 47
        }
      ]
    },
    {
      "cell_type": "code",
      "source": [
        "import numpy as np\n",
        "from scipy.optimize import fsolve\n",
        "sqrt = np.emath.sqrt\n",
        "\n",
        "musun = 132712000000\n",
        "T = 365.25 * 86400 * 2 / 3\n",
        "e = 581.2392124070273\n",
        "\n",
        "\n",
        "def f(x):\n",
        "    return np.abs((T * musun ** 2 / (2 * np.pi)) ** (1 / 3) * sqrt(1 - x ** 2)\n",
        "        - sqrt(.5 * musun ** 2 / e * (1 - x ** 2)))\n",
        "\n",
        "x = fsolve(f, 0.01)\n",
        "x, f(x)"
      ],
      "metadata": {
        "colab": {
          "base_uri": "https://localhost:8080/"
        },
        "id": "ExXDTjoE_ssb",
        "outputId": "8297d5f1-c5eb-4ad8-8499-be8488af96cb"
      },
      "execution_count": 50,
      "outputs": [
        {
          "output_type": "execute_result",
          "data": {
            "text/plain": [
              "(array([-1.]), array([0.00030782]))"
            ]
          },
          "metadata": {},
          "execution_count": 50
        }
      ]
    },
    {
      "cell_type": "code",
      "source": [
        "import numpy as np\n",
        "from scipy.optimize import fsolve\n",
        "sqrt = np.emath.sqrt\n",
        "def f(x):\n",
        "  return np.abs(2* sqrt(1-x**2))\n",
        "\n",
        "x = np.arange(-1,1,0.1)\n",
        "y = fsolve(f,x)"
      ],
      "metadata": {
        "id": "6t5NjrG3BOqo"
      },
      "execution_count": 54,
      "outputs": []
    },
    {
      "cell_type": "code",
      "source": [
        "plt.plot(x,y)\n",
        "plt.axhline(y=0)\n",
        "plt.axvline(x=0)\n",
        "plt.show()"
      ],
      "metadata": {
        "colab": {
          "base_uri": "https://localhost:8080/",
          "height": 265
        },
        "id": "Gld0ziHpCqej",
        "outputId": "191d9b75-5207-4f3c-d37b-b23610b59fda"
      },
      "execution_count": 55,
      "outputs": [
        {
          "output_type": "display_data",
          "data": {
            "text/plain": [
              "<Figure size 432x288 with 1 Axes>"
            ],
            "image/png": "[encoded data removed]"
          },
          "metadata": {
            "needs_background": "light"
          }
        }
      ]
    },
    {
      "cell_type": "code",
      "source": [],
      "metadata": {
        "id": "851v-O4sCr3E"
      },
      "execution_count": null,
      "outputs": []
    }
  ]
}