{
  "nbformat": 4,
  "nbformat_minor": 0,
  "metadata": {
    "colab": {
      "name": "YouTube影片簡易下載器",
      "provenance": [],
      "collapsed_sections": [],
      "include_colab_link": true
    },
    "kernelspec": {
      "name": "python3",
      "display_name": "Python 3"
    },
    "language_info": {
      "name": "python"
    }
  },
  "cells": [
    {
      "cell_type": "markdown",
      "metadata": {
        "id": "view-in-github",
        "colab_type": "text"
      },
      "source": [
        "<a href=\"https://colab.research.google.com/github/jumbokh/Python-Class/blob/master/notebooks/YouTube%E5%BD%B1%E7%89%87%E7%B0%A1%E6%98%93%E4%B8%8B%E8%BC%89%E5%99%A8.ipynb\" target=\"_parent\"><img src=\"https://colab.research.google.com/assets/colab-badge.svg\" alt=\"Open In Colab\"/></a>"
      ]
    },
    {
      "cell_type": "code",
      "source": [
        "#@title YouTube影片簡易下載器\n",
        "#@markdown 1. 請在下方 **url** 欄位中輸入要下載YouTube影片的網址\n",
        "#@markdown 2. 按左方的 **Play** 鈕執行程式\n",
        "\n",
        "# 安裝模組\n",
        "!pip install -U pytube\n",
        "\n",
        "# 抓取單一檔案\n",
        "from pytube import YouTube\n",
        "from google.colab import files\n",
        "# 填入下載網址\n",
        "url = 'https://www.youtube.com/watch?v=m11q-cwzgiU' #@param {type:\"string\"}\n",
        "\n",
        "yt = YouTube(url)\n",
        "filename = yt.streams.get_highest_resolution().download()\n",
        "# 下載到本機\n",
        "files.download(filename)"
      ],
      "metadata": {
        "id": "8JtZqgdieSQn"
      },
      "execution_count": null,
      "outputs": []
    }
  ]
}